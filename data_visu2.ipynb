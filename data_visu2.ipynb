{
  "nbformat": 4,
  "nbformat_minor": 0,
  "metadata": {
    "colab": {
      "provenance": [],
      "authorship_tag": "ABX9TyN25e/wiW8FVZpLFTRj6ViC",
      "include_colab_link": true
    },
    "kernelspec": {
      "name": "python3",
      "display_name": "Python 3"
    },
    "language_info": {
      "name": "python"
    }
  },
  "cells": [
    {
      "cell_type": "markdown",
      "metadata": {
        "id": "view-in-github",
        "colab_type": "text"
      },
      "source": [
        "<a href=\"https://colab.research.google.com/github/Meyyaou/pythondaily/blob/main/data_visu2.ipynb\" target=\"_parent\"><img src=\"https://colab.research.google.com/assets/colab-badge.svg\" alt=\"Open In Colab\"/></a>"
      ]
    },
    {
      "cell_type": "code",
      "execution_count": 26,
      "metadata": {
        "colab": {
          "base_uri": "https://localhost:8080/"
        },
        "id": "N5A-AdtuUZ7n",
        "outputId": "e1a91be0-2eb9-4489-b247-828b18bef32c"
      },
      "outputs": [
        {
          "output_type": "stream",
          "name": "stdout",
          "text": [
            "Requirement already satisfied: matplotlib in /usr/local/lib/python3.10/dist-packages (3.7.1)\n",
            "Requirement already satisfied: contourpy>=1.0.1 in /usr/local/lib/python3.10/dist-packages (from matplotlib) (1.2.1)\n",
            "Requirement already satisfied: cycler>=0.10 in /usr/local/lib/python3.10/dist-packages (from matplotlib) (0.12.1)\n",
            "Requirement already satisfied: fonttools>=4.22.0 in /usr/local/lib/python3.10/dist-packages (from matplotlib) (4.53.0)\n",
            "Requirement already satisfied: kiwisolver>=1.0.1 in /usr/local/lib/python3.10/dist-packages (from matplotlib) (1.4.5)\n",
            "Requirement already satisfied: numpy>=1.20 in /usr/local/lib/python3.10/dist-packages (from matplotlib) (1.25.2)\n",
            "Requirement already satisfied: packaging>=20.0 in /usr/local/lib/python3.10/dist-packages (from matplotlib) (24.1)\n",
            "Requirement already satisfied: pillow>=6.2.0 in /usr/local/lib/python3.10/dist-packages (from matplotlib) (9.4.0)\n",
            "Requirement already satisfied: pyparsing>=2.3.1 in /usr/local/lib/python3.10/dist-packages (from matplotlib) (3.1.2)\n",
            "Requirement already satisfied: python-dateutil>=2.7 in /usr/local/lib/python3.10/dist-packages (from matplotlib) (2.8.2)\n",
            "Requirement already satisfied: six>=1.5 in /usr/local/lib/python3.10/dist-packages (from python-dateutil>=2.7->matplotlib) (1.16.0)\n"
          ]
        }
      ],
      "source": [
        "pip install matplotlib"
      ]
    },
    {
      "cell_type": "code",
      "source": [
        "import matplotlib.pyplot as plt\n",
        "#to use the plot\n",
        "\n",
        "import numpy as np"
      ],
      "metadata": {
        "id": "wBs9rEHfUirj"
      },
      "execution_count": 34,
      "outputs": []
    },
    {
      "cell_type": "code",
      "source": [
        "x = np.linspace(0,2,10)\n",
        "y=x**2\n",
        "print(x)"
      ],
      "metadata": {
        "colab": {
          "base_uri": "https://localhost:8080/"
        },
        "id": "ECBoQ9b4VAMV",
        "outputId": "99d8508b-76b4-4423-aa12-b5788de35893"
      },
      "execution_count": 35,
      "outputs": [
        {
          "output_type": "stream",
          "name": "stdout",
          "text": [
            "[0.         0.22222222 0.44444444 0.66666667 0.88888889 1.11111111\n",
            " 1.33333333 1.55555556 1.77777778 2.        ]\n"
          ]
        }
      ]
    },
    {
      "cell_type": "code",
      "source": [
        "#plot(X,Y) avec X de meme dimension de Y\n",
        "plt.plot(x,y)\n",
        "plt.show()"
      ],
      "metadata": {
        "id": "Mhy9Cpk2UsxG"
      },
      "execution_count": 33,
      "outputs": []
    },
    {
      "cell_type": "code",
      "source": [
        "plt.scatter(x,y)"
      ],
      "metadata": {
        "colab": {
          "base_uri": "https://localhost:8080/",
          "height": 304
        },
        "id": "q_1btfYLVJt7",
        "outputId": "da6cdcd5-c8e4-47a8-963c-e5910f2fcd9b"
      },
      "execution_count": 36,
      "outputs": [
        {
          "output_type": "error",
          "ename": "ValueError",
          "evalue": "s must be a scalar, or float array-like with the same size as x and y",
          "traceback": [
            "\u001b[0;31m---------------------------------------------------------------------------\u001b[0m",
            "\u001b[0;31mValueError\u001b[0m                                Traceback (most recent call last)",
            "\u001b[0;32m<ipython-input-36-964dc56e0d0d>\u001b[0m in \u001b[0;36m<cell line: 1>\u001b[0;34m()\u001b[0m\n\u001b[0;32m----> 1\u001b[0;31m \u001b[0mplt\u001b[0m\u001b[0;34m.\u001b[0m\u001b[0mscatter\u001b[0m\u001b[0;34m(\u001b[0m\u001b[0mx\u001b[0m\u001b[0;34m,\u001b[0m\u001b[0my\u001b[0m\u001b[0;34m)\u001b[0m\u001b[0;34m\u001b[0m\u001b[0;34m\u001b[0m\u001b[0m\n\u001b[0m",
            "\u001b[0;32m/usr/local/lib/python3.10/dist-packages/matplotlib/pyplot.py\u001b[0m in \u001b[0;36mscatter\u001b[0;34m(x, y, s, c, marker, cmap, norm, vmin, vmax, alpha, linewidths, edgecolors, plotnonfinite, data, **kwargs)\u001b[0m\n\u001b[1;32m   2860\u001b[0m         \u001b[0mvmin\u001b[0m\u001b[0;34m=\u001b[0m\u001b[0;32mNone\u001b[0m\u001b[0;34m,\u001b[0m \u001b[0mvmax\u001b[0m\u001b[0;34m=\u001b[0m\u001b[0;32mNone\u001b[0m\u001b[0;34m,\u001b[0m \u001b[0malpha\u001b[0m\u001b[0;34m=\u001b[0m\u001b[0;32mNone\u001b[0m\u001b[0;34m,\u001b[0m \u001b[0mlinewidths\u001b[0m\u001b[0;34m=\u001b[0m\u001b[0;32mNone\u001b[0m\u001b[0;34m,\u001b[0m \u001b[0;34m*\u001b[0m\u001b[0;34m,\u001b[0m\u001b[0;34m\u001b[0m\u001b[0;34m\u001b[0m\u001b[0m\n\u001b[1;32m   2861\u001b[0m         edgecolors=None, plotnonfinite=False, data=None, **kwargs):\n\u001b[0;32m-> 2862\u001b[0;31m     __ret = gca().scatter(\n\u001b[0m\u001b[1;32m   2863\u001b[0m         \u001b[0mx\u001b[0m\u001b[0;34m,\u001b[0m \u001b[0my\u001b[0m\u001b[0;34m,\u001b[0m \u001b[0ms\u001b[0m\u001b[0;34m=\u001b[0m\u001b[0ms\u001b[0m\u001b[0;34m,\u001b[0m \u001b[0mc\u001b[0m\u001b[0;34m=\u001b[0m\u001b[0mc\u001b[0m\u001b[0;34m,\u001b[0m \u001b[0mmarker\u001b[0m\u001b[0;34m=\u001b[0m\u001b[0mmarker\u001b[0m\u001b[0;34m,\u001b[0m \u001b[0mcmap\u001b[0m\u001b[0;34m=\u001b[0m\u001b[0mcmap\u001b[0m\u001b[0;34m,\u001b[0m \u001b[0mnorm\u001b[0m\u001b[0;34m=\u001b[0m\u001b[0mnorm\u001b[0m\u001b[0;34m,\u001b[0m\u001b[0;34m\u001b[0m\u001b[0;34m\u001b[0m\u001b[0m\n\u001b[1;32m   2864\u001b[0m         \u001b[0mvmin\u001b[0m\u001b[0;34m=\u001b[0m\u001b[0mvmin\u001b[0m\u001b[0;34m,\u001b[0m \u001b[0mvmax\u001b[0m\u001b[0;34m=\u001b[0m\u001b[0mvmax\u001b[0m\u001b[0;34m,\u001b[0m \u001b[0malpha\u001b[0m\u001b[0;34m=\u001b[0m\u001b[0malpha\u001b[0m\u001b[0;34m,\u001b[0m \u001b[0mlinewidths\u001b[0m\u001b[0;34m=\u001b[0m\u001b[0mlinewidths\u001b[0m\u001b[0;34m,\u001b[0m\u001b[0;34m\u001b[0m\u001b[0;34m\u001b[0m\u001b[0m\n",
            "\u001b[0;32m/usr/local/lib/python3.10/dist-packages/matplotlib/__init__.py\u001b[0m in \u001b[0;36minner\u001b[0;34m(ax, data, *args, **kwargs)\u001b[0m\n\u001b[1;32m   1440\u001b[0m     \u001b[0;32mdef\u001b[0m \u001b[0minner\u001b[0m\u001b[0;34m(\u001b[0m\u001b[0max\u001b[0m\u001b[0;34m,\u001b[0m \u001b[0;34m*\u001b[0m\u001b[0margs\u001b[0m\u001b[0;34m,\u001b[0m \u001b[0mdata\u001b[0m\u001b[0;34m=\u001b[0m\u001b[0;32mNone\u001b[0m\u001b[0;34m,\u001b[0m \u001b[0;34m**\u001b[0m\u001b[0mkwargs\u001b[0m\u001b[0;34m)\u001b[0m\u001b[0;34m:\u001b[0m\u001b[0;34m\u001b[0m\u001b[0;34m\u001b[0m\u001b[0m\n\u001b[1;32m   1441\u001b[0m         \u001b[0;32mif\u001b[0m \u001b[0mdata\u001b[0m \u001b[0;32mis\u001b[0m \u001b[0;32mNone\u001b[0m\u001b[0;34m:\u001b[0m\u001b[0;34m\u001b[0m\u001b[0;34m\u001b[0m\u001b[0m\n\u001b[0;32m-> 1442\u001b[0;31m             \u001b[0;32mreturn\u001b[0m \u001b[0mfunc\u001b[0m\u001b[0;34m(\u001b[0m\u001b[0max\u001b[0m\u001b[0;34m,\u001b[0m \u001b[0;34m*\u001b[0m\u001b[0mmap\u001b[0m\u001b[0;34m(\u001b[0m\u001b[0msanitize_sequence\u001b[0m\u001b[0;34m,\u001b[0m \u001b[0margs\u001b[0m\u001b[0;34m)\u001b[0m\u001b[0;34m,\u001b[0m \u001b[0;34m**\u001b[0m\u001b[0mkwargs\u001b[0m\u001b[0;34m)\u001b[0m\u001b[0;34m\u001b[0m\u001b[0;34m\u001b[0m\u001b[0m\n\u001b[0m\u001b[1;32m   1443\u001b[0m \u001b[0;34m\u001b[0m\u001b[0m\n\u001b[1;32m   1444\u001b[0m         \u001b[0mbound\u001b[0m \u001b[0;34m=\u001b[0m \u001b[0mnew_sig\u001b[0m\u001b[0;34m.\u001b[0m\u001b[0mbind\u001b[0m\u001b[0;34m(\u001b[0m\u001b[0max\u001b[0m\u001b[0;34m,\u001b[0m \u001b[0;34m*\u001b[0m\u001b[0margs\u001b[0m\u001b[0;34m,\u001b[0m \u001b[0;34m**\u001b[0m\u001b[0mkwargs\u001b[0m\u001b[0;34m)\u001b[0m\u001b[0;34m\u001b[0m\u001b[0;34m\u001b[0m\u001b[0m\n",
            "\u001b[0;32m/usr/local/lib/python3.10/dist-packages/mpl_toolkits/mplot3d/axes3d.py\u001b[0m in \u001b[0;36mscatter\u001b[0;34m(self, xs, ys, zs, zdir, s, c, depthshade, *args, **kwargs)\u001b[0m\n\u001b[1;32m   2273\u001b[0m             \u001b[0mzs\u001b[0m \u001b[0;34m=\u001b[0m \u001b[0mzs\u001b[0m\u001b[0;34m.\u001b[0m\u001b[0mcopy\u001b[0m\u001b[0;34m(\u001b[0m\u001b[0;34m)\u001b[0m\u001b[0;34m\u001b[0m\u001b[0;34m\u001b[0m\u001b[0m\n\u001b[1;32m   2274\u001b[0m \u001b[0;34m\u001b[0m\u001b[0m\n\u001b[0;32m-> 2275\u001b[0;31m         \u001b[0mpatches\u001b[0m \u001b[0;34m=\u001b[0m \u001b[0msuper\u001b[0m\u001b[0;34m(\u001b[0m\u001b[0;34m)\u001b[0m\u001b[0;34m.\u001b[0m\u001b[0mscatter\u001b[0m\u001b[0;34m(\u001b[0m\u001b[0mxs\u001b[0m\u001b[0;34m,\u001b[0m \u001b[0mys\u001b[0m\u001b[0;34m,\u001b[0m \u001b[0ms\u001b[0m\u001b[0;34m=\u001b[0m\u001b[0ms\u001b[0m\u001b[0;34m,\u001b[0m \u001b[0mc\u001b[0m\u001b[0;34m=\u001b[0m\u001b[0mc\u001b[0m\u001b[0;34m,\u001b[0m \u001b[0;34m*\u001b[0m\u001b[0margs\u001b[0m\u001b[0;34m,\u001b[0m \u001b[0;34m**\u001b[0m\u001b[0mkwargs\u001b[0m\u001b[0;34m)\u001b[0m\u001b[0;34m\u001b[0m\u001b[0;34m\u001b[0m\u001b[0m\n\u001b[0m\u001b[1;32m   2276\u001b[0m         art3d.patch_collection_2d_to_3d(patches, zs=zs, zdir=zdir,\n\u001b[1;32m   2277\u001b[0m                                         depthshade=depthshade)\n",
            "\u001b[0;32m/usr/local/lib/python3.10/dist-packages/matplotlib/__init__.py\u001b[0m in \u001b[0;36minner\u001b[0;34m(ax, data, *args, **kwargs)\u001b[0m\n\u001b[1;32m   1440\u001b[0m     \u001b[0;32mdef\u001b[0m \u001b[0minner\u001b[0m\u001b[0;34m(\u001b[0m\u001b[0max\u001b[0m\u001b[0;34m,\u001b[0m \u001b[0;34m*\u001b[0m\u001b[0margs\u001b[0m\u001b[0;34m,\u001b[0m \u001b[0mdata\u001b[0m\u001b[0;34m=\u001b[0m\u001b[0;32mNone\u001b[0m\u001b[0;34m,\u001b[0m \u001b[0;34m**\u001b[0m\u001b[0mkwargs\u001b[0m\u001b[0;34m)\u001b[0m\u001b[0;34m:\u001b[0m\u001b[0;34m\u001b[0m\u001b[0;34m\u001b[0m\u001b[0m\n\u001b[1;32m   1441\u001b[0m         \u001b[0;32mif\u001b[0m \u001b[0mdata\u001b[0m \u001b[0;32mis\u001b[0m \u001b[0;32mNone\u001b[0m\u001b[0;34m:\u001b[0m\u001b[0;34m\u001b[0m\u001b[0;34m\u001b[0m\u001b[0m\n\u001b[0;32m-> 1442\u001b[0;31m             \u001b[0;32mreturn\u001b[0m \u001b[0mfunc\u001b[0m\u001b[0;34m(\u001b[0m\u001b[0max\u001b[0m\u001b[0;34m,\u001b[0m \u001b[0;34m*\u001b[0m\u001b[0mmap\u001b[0m\u001b[0;34m(\u001b[0m\u001b[0msanitize_sequence\u001b[0m\u001b[0;34m,\u001b[0m \u001b[0margs\u001b[0m\u001b[0;34m)\u001b[0m\u001b[0;34m,\u001b[0m \u001b[0;34m**\u001b[0m\u001b[0mkwargs\u001b[0m\u001b[0;34m)\u001b[0m\u001b[0;34m\u001b[0m\u001b[0;34m\u001b[0m\u001b[0m\n\u001b[0m\u001b[1;32m   1443\u001b[0m \u001b[0;34m\u001b[0m\u001b[0m\n\u001b[1;32m   1444\u001b[0m         \u001b[0mbound\u001b[0m \u001b[0;34m=\u001b[0m \u001b[0mnew_sig\u001b[0m\u001b[0;34m.\u001b[0m\u001b[0mbind\u001b[0m\u001b[0;34m(\u001b[0m\u001b[0max\u001b[0m\u001b[0;34m,\u001b[0m \u001b[0;34m*\u001b[0m\u001b[0margs\u001b[0m\u001b[0;34m,\u001b[0m \u001b[0;34m**\u001b[0m\u001b[0mkwargs\u001b[0m\u001b[0;34m)\u001b[0m\u001b[0;34m\u001b[0m\u001b[0;34m\u001b[0m\u001b[0m\n",
            "\u001b[0;32m/usr/local/lib/python3.10/dist-packages/matplotlib/axes/_axes.py\u001b[0m in \u001b[0;36mscatter\u001b[0;34m(self, x, y, s, c, marker, cmap, norm, vmin, vmax, alpha, linewidths, edgecolors, plotnonfinite, **kwargs)\u001b[0m\n\u001b[1;32m   4591\u001b[0m                 (not np.issubdtype(s.dtype, np.floating) and\n\u001b[1;32m   4592\u001b[0m                  not np.issubdtype(s.dtype, np.integer))):\n\u001b[0;32m-> 4593\u001b[0;31m             raise ValueError(\n\u001b[0m\u001b[1;32m   4594\u001b[0m                 \u001b[0;34m\"s must be a scalar, \"\u001b[0m\u001b[0;34m\u001b[0m\u001b[0;34m\u001b[0m\u001b[0m\n\u001b[1;32m   4595\u001b[0m                 \"or float array-like with the same size as x and y\")\n",
            "\u001b[0;31mValueError\u001b[0m: s must be a scalar, or float array-like with the same size as x and y"
          ]
        }
      ]
    },
    {
      "cell_type": "code",
      "source": [
        "#plot(x,y, label=nom de la courbe, lw=epaisseur du trait, ls=style du trait, c=couleur)\n",
        "plt.plot(x,y, label='x par rapport a y', c=\"yellow\", lw=4, ls=\"--\")"
      ],
      "metadata": {
        "colab": {
          "base_uri": "https://localhost:8080/"
        },
        "id": "4nGHa6xMVtmW",
        "outputId": "18e62aad-2a4d-42dc-fe50-cf555079e4fe"
      },
      "execution_count": 37,
      "outputs": [
        {
          "output_type": "execute_result",
          "data": {
            "text/plain": [
              "[<mpl_toolkits.mplot3d.art3d.Line3D at 0x796e1c0a8160>]"
            ]
          },
          "metadata": {},
          "execution_count": 37
        }
      ]
    },
    {
      "cell_type": "code",
      "source": [
        "#le cycle de vie d'une figure, usually we start with:\n",
        "plt.figure(figsize=(10,6))"
      ],
      "metadata": {
        "colab": {
          "base_uri": "https://localhost:8080/"
        },
        "id": "xAk0NktsWGxT",
        "outputId": "c9fe728e-1bcb-48eb-c155-81f589e6a9ed"
      },
      "execution_count": 38,
      "outputs": [
        {
          "output_type": "execute_result",
          "data": {
            "text/plain": [
              "<Figure size 1000x600 with 0 Axes>"
            ]
          },
          "metadata": {},
          "execution_count": 38
        }
      ]
    },
    {
      "cell_type": "code",
      "source": [
        "plt.plot(x,y, label='quadratique')\n",
        "plt.plot(x,x**3,label='cubique')\n",
        "#plt.plot(x,y**2)\n",
        "plt.title(\"fig 1\")\n",
        "plt.xlabel('axe X')\n",
        "plt.ylabel('axe y')\n",
        "plt.legend()\n",
        "plt.savefig('figure.png')\n",
        "plt.show()\n",
        "\n",
        "#pour avoir une autre figure: \\n and\n",
        "plt.figure()\n",
        "plt.plot(x,y)"
      ],
      "metadata": {
        "colab": {
          "base_uri": "https://localhost:8080/"
        },
        "id": "RjuehIS1WSmO",
        "outputId": "d1c1ec39-1f57-4391-dae6-b0b2bd55913c"
      },
      "execution_count": 39,
      "outputs": [
        {
          "output_type": "execute_result",
          "data": {
            "text/plain": [
              "[<matplotlib.lines.Line2D at 0x796e1da52e60>]"
            ]
          },
          "metadata": {},
          "execution_count": 39
        }
      ]
    },
    {
      "cell_type": "code",
      "source": [
        "#to have pls graphique in same fig subplot(row,col,pos)\n",
        "plt.figure()\n",
        "plt.subplot(2,1,1)\n",
        "plt.plot(x,y, c='red')\n",
        "plt.subplot(2,1,2)\n",
        "plt.plot(x, y, c=\"yellow\")"
      ],
      "metadata": {
        "colab": {
          "base_uri": "https://localhost:8080/"
        },
        "id": "xUhStq4-WU_W",
        "outputId": "7686cd34-4542-4c5f-de65-8fdd64edb939"
      },
      "execution_count": 40,
      "outputs": [
        {
          "output_type": "execute_result",
          "data": {
            "text/plain": [
              "[<matplotlib.lines.Line2D at 0x796e1bf6f670>]"
            ]
          },
          "metadata": {},
          "execution_count": 40
        }
      ]
    },
    {
      "cell_type": "code",
      "source": [
        "#to have pls graphique in same fig subplot(row,col,pos)\n",
        "plt.figure()\n",
        "plt.subplot(2,2,1)\n",
        "plt.plot(x,y, c='pink')\n",
        "plt.title('graph 1')\n",
        "plt.subplot(2,2,2)\n",
        "plt.plot(x,np.sin(x), label='sinus', c='purple')\n",
        "plt.plot(x,np.cos(x), label='cosinus', c='orange')\n",
        "plt.legend()"
      ],
      "metadata": {
        "colab": {
          "base_uri": "https://localhost:8080/"
        },
        "outputId": "edc3edd8-fc94-46e5-cfa4-4988fb286dce",
        "id": "fwQq0AtxlUKP"
      },
      "execution_count": 41,
      "outputs": [
        {
          "output_type": "execute_result",
          "data": {
            "text/plain": [
              "<matplotlib.legend.Legend at 0x796e1bfe7fa0>"
            ]
          },
          "metadata": {},
          "execution_count": 41
        }
      ]
    },
    {
      "cell_type": "code",
      "source": [
        "#method oop\n",
        "#l'interet de la method oop : more possibilities\n",
        "fig, axe= plt.subplots(2,1, sharex=True)\n",
        "axe[0].plot(x,y)\n",
        "axe[1].plot(y,x)\n",
        "plt.show()\n",
        "#type(axe) is a ndarray\n",
        "#axe.shape"
      ],
      "metadata": {
        "id": "BuamPm_ulT52"
      },
      "execution_count": 42,
      "outputs": []
    },
    {
      "cell_type": "code",
      "source": [
        "#exo\n",
        "dataset={f\"experience{i}\": np.random.randn(100)for i in range(4)}\n",
        "dataset"
      ],
      "metadata": {
        "colab": {
          "base_uri": "https://localhost:8080/"
        },
        "id": "CAzx-bdEmL3k",
        "outputId": "e3af7986-ca03-4a04-eb82-45f4c276d84e"
      },
      "execution_count": 43,
      "outputs": [
        {
          "output_type": "execute_result",
          "data": {
            "text/plain": [
              "{'experience0': array([-0.63083545,  0.31320408,  0.45574775,  2.1801699 , -0.26786071,\n",
              "        -1.05057015, -1.39349104, -1.52528297,  1.68981421,  0.08330111,\n",
              "        -0.08484873, -1.1596482 , -1.34417886, -1.67825788,  0.05027973,\n",
              "        -1.07825974,  0.01355534,  1.31576223,  0.42682966,  1.92385929,\n",
              "         0.02264471,  0.89878481,  0.03857279, -1.14725346, -2.21277727,\n",
              "         0.0855974 , -1.05760603,  0.20441702,  0.3111082 , -0.38739209,\n",
              "        -1.0114188 ,  1.07568095,  0.19976574,  0.24762024, -1.73852022,\n",
              "         0.40042685, -1.15685313, -0.0202952 ,  0.51752459,  0.29679527,\n",
              "        -0.16476668, -0.55777269, -0.88887842,  1.12094897, -0.27120816,\n",
              "        -2.16578346,  1.84641459,  1.47133078,  0.9416755 , -0.10841034,\n",
              "        -1.25256522,  1.36592133,  0.42439977, -0.74265735, -0.67066955,\n",
              "         0.76985089, -1.27155564, -0.97632369,  1.70987063, -0.15848222,\n",
              "        -0.98507048, -0.39369631, -0.66041818,  0.85038109,  1.37552721,\n",
              "         0.47445891, -1.29813417, -1.56646416, -1.21488375,  0.0578727 ,\n",
              "        -0.57657489,  0.62898521,  0.07168749,  0.6641086 ,  0.87679688,\n",
              "        -0.08666703,  0.30271239, -2.25478121, -1.42976416, -0.25884139,\n",
              "        -0.53389487,  0.37691541,  0.29495919,  0.41448853, -0.28215724,\n",
              "         0.00914591,  1.02124773,  0.25852682, -0.29721339,  0.86039883,\n",
              "        -0.7470017 ,  0.82374949, -0.61833512, -0.21349185,  0.00543059,\n",
              "        -0.30431398,  0.70948923,  0.26704137, -0.03869375, -0.36058972]),\n",
              " 'experience1': array([ 0.07697826,  1.5068511 ,  1.85342141, -0.88661937,  0.24432546,\n",
              "         0.0240824 ,  0.2888908 ,  0.73444764, -1.22014245, -0.64423613,\n",
              "        -0.7877756 ,  0.53259628,  1.44066425,  0.65738137, -0.48108683,\n",
              "         0.06580211,  0.37890308,  0.95797145, -0.81149928,  0.13043149,\n",
              "         2.07375198, -0.39343305, -0.48974917, -1.64052361, -0.29679533,\n",
              "         0.0555888 ,  0.46846878, -1.72151273, -0.36382561, -0.12595177,\n",
              "        -1.32817846,  0.01454246,  0.76669627,  0.94751535, -0.08646302,\n",
              "        -0.49803019,  0.87875236, -1.30057499,  0.92259318, -0.10330564,\n",
              "        -0.4140433 , -0.55314246,  0.50912116, -0.70403244,  0.90105693,\n",
              "        -1.67114407,  0.95354996,  0.09114938,  1.74396446,  0.14037294,\n",
              "         0.95224489, -0.49923993,  0.29444653,  0.27092998, -0.05020708,\n",
              "         0.6936199 , -0.26497958,  0.1086515 , -1.70680866,  0.34993409,\n",
              "         0.94503102,  0.04508651, -0.17062685, -1.2447647 ,  0.44002708,\n",
              "         0.25206101,  1.43705665, -0.73194106, -0.07448025,  0.88562971,\n",
              "         0.424833  , -1.02883169, -3.14741219, -2.51218351,  0.23150418,\n",
              "         1.47501486,  0.53441795, -0.14112812,  0.20524033, -2.16915983,\n",
              "         0.09744079,  1.07993314,  0.35315418,  0.82003542,  0.63398188,\n",
              "        -1.25499877,  1.25499052,  0.23805201, -1.54605545, -1.72580035,\n",
              "        -0.63804065, -1.28122372, -1.85729394,  0.02236601,  1.03087589,\n",
              "         0.12041582, -0.39407167, -0.83324363, -1.06605168, -0.29401729]),\n",
              " 'experience2': array([ 0.15855607, -1.09248517,  0.5412985 , -0.34042308,  0.52364231,\n",
              "         1.37254511, -0.37023843, -0.63443036, -0.09660661, -0.14865689,\n",
              "         1.15884137, -0.5286817 ,  0.28903957, -0.07530625,  0.64764096,\n",
              "         1.92099205,  0.1520527 , -0.30525608, -1.84605247,  1.41923189,\n",
              "        -0.77169771, -0.08850007,  0.41203413, -0.30731673,  0.45130828,\n",
              "        -0.93281069,  1.24756104,  0.64818938, -0.08518482, -1.33242295,\n",
              "        -0.57562675,  0.67157083, -0.2326016 , -0.61981532, -0.02314279,\n",
              "         2.0227836 , -2.1000848 , -0.77101382,  0.14412276, -0.31218927,\n",
              "        -0.54589643, -2.03666728,  0.97726284, -0.71085421, -0.29156705,\n",
              "        -0.14088018,  0.8831767 , -2.60199794,  1.57061337,  0.23197807,\n",
              "         0.15213446, -1.36888609, -0.31991481,  0.19366972,  0.72373986,\n",
              "        -0.48757349, -0.44228614, -0.32193214, -2.00066924, -1.28911906,\n",
              "        -0.50476696, -0.54652587,  1.0067364 ,  1.2923832 , -0.58867497,\n",
              "        -0.26682746,  0.06949595,  0.38515403,  1.32117022, -0.11547733,\n",
              "         0.41532879,  0.29745733, -0.23225999, -1.14971626,  1.82570308,\n",
              "        -2.15465146, -0.00784646, -1.04147764, -0.73685059, -0.15228221,\n",
              "         0.57459915,  0.93689284, -1.40450266,  0.79051231,  0.03284503,\n",
              "         0.9072407 ,  0.15745877, -1.57101237, -0.80016372, -0.28169989,\n",
              "         0.18308945,  0.05971039,  2.4479376 , -1.77133184, -0.42257821,\n",
              "        -0.26310537, -2.90326601,  1.20082638,  1.79898425, -0.77315553]),\n",
              " 'experience3': array([-0.03810566, -0.54556114, -0.56213082,  0.86232428, -1.18052573,\n",
              "        -0.45367137, -1.63017263, -0.49162303, -0.81282998, -0.96861809,\n",
              "        -0.21302111, -0.52777609,  0.59549668, -0.81307982,  0.26229043,\n",
              "        -0.41780308, -0.05691623,  1.11723527,  1.39168907,  0.14326226,\n",
              "        -0.22229916,  1.5852592 ,  0.01299134,  1.13772429,  0.39988863,\n",
              "         1.12582239,  1.76591202,  0.46881948,  0.20803712,  1.05345369,\n",
              "         0.29497083,  0.460676  ,  0.70005938, -0.36547632, -0.16220947,\n",
              "        -0.28492496, -0.98889517,  0.14714257, -0.5184135 , -0.71892085,\n",
              "        -1.87770132,  0.84075405, -0.22773938, -0.38923201, -0.3909319 ,\n",
              "        -0.02176305, -0.77728393, -1.23337722, -1.16098978,  1.36743439,\n",
              "         1.15822562, -1.83163416, -0.77635436,  0.97663963, -0.1661603 ,\n",
              "         0.78028127, -1.15466378,  0.04956556, -0.48244939, -1.15550936,\n",
              "         1.73277158, -1.67279591, -0.29997626,  0.61259871, -0.80836284,\n",
              "        -1.07876122,  0.25743028, -0.89676815, -0.49004707, -0.60515779,\n",
              "         0.83527066,  1.60770966, -0.25621303,  0.22163025, -0.08096748,\n",
              "         0.46246018, -0.27330412, -0.29883994,  0.14360254,  1.29302486,\n",
              "        -0.88531418, -0.22480023,  0.14963763,  0.12547201,  1.81631994,\n",
              "        -0.28635362,  0.74628118,  0.59463708,  0.49391758, -0.18474302,\n",
              "        -0.96029051, -1.39957043, -0.13787141,  0.57716688, -1.96467607,\n",
              "        -2.19629333, -1.47839852, -1.71027786,  0.89706569, -0.18526826])}"
            ]
          },
          "metadata": {},
          "execution_count": 43
        }
      ]
    },
    {
      "cell_type": "code",
      "source": [
        "def graph(dataset):\n",
        "  plt.figure()\n",
        "  plt.subplot(4,1,1)\n",
        "  plt.tight_layout()\n",
        "  plt.plot(dataset['experience0'], c='blue')\n",
        "  plt.title('exeperience0')\n",
        "\n",
        "  plt.subplot(4,1,2)\n",
        "  plt.plot(dataset['experience1'], c='blue')\n",
        "  plt.title('experience1')\n",
        "\n",
        "  plt.subplot(4,1,3)\n",
        "  plt.plot(dataset['experience2'], c='blue')\n",
        "  plt.title('experience2')\n",
        "\n",
        "  plt.subplot(4,1,4)\n",
        "  plt.plot(dataset['experience3'], c='blue')\n",
        "  plt.title('experience3')\n",
        "\n",
        "  plt.show()"
      ],
      "metadata": {
        "id": "20NyO6MMnKZ4"
      },
      "execution_count": 44,
      "outputs": []
    },
    {
      "cell_type": "code",
      "source": [
        "graph(dataset)"
      ],
      "metadata": {
        "id": "YphFaEwzoLxJ"
      },
      "execution_count": 45,
      "outputs": []
    },
    {
      "cell_type": "code",
      "source": [
        "#scatter classification\n",
        "import matplotlib.pyplot as plt\n",
        "import numpy as np\n",
        "from sklearn.datasets import load_iris"
      ],
      "metadata": {
        "id": "FYYcz__Fpozj"
      },
      "execution_count": 47,
      "outputs": []
    },
    {
      "cell_type": "code",
      "source": [
        "iris= load_iris()\n",
        "\n",
        "x=iris.data\n",
        "y=iris.target\n",
        "names=list(iris.target_names)\n",
        "\n",
        "print(f'x contient {x.shape[0]} examples et {x.shape[1]} vars')\n",
        "print(f'il ya {np.unique(y).size} classes')\n",
        "y"
      ],
      "metadata": {
        "colab": {
          "base_uri": "https://localhost:8080/"
        },
        "id": "4FOeabiD6Z6r",
        "outputId": "bde97d9a-3b3a-4f45-8740-7abe990f0c26"
      },
      "execution_count": 48,
      "outputs": [
        {
          "output_type": "stream",
          "name": "stdout",
          "text": [
            "x contient 150 examples et 4 vars\n",
            "il ya 3 classes\n"
          ]
        },
        {
          "output_type": "execute_result",
          "data": {
            "text/plain": [
              "array([0, 0, 0, 0, 0, 0, 0, 0, 0, 0, 0, 0, 0, 0, 0, 0, 0, 0, 0, 0, 0, 0,\n",
              "       0, 0, 0, 0, 0, 0, 0, 0, 0, 0, 0, 0, 0, 0, 0, 0, 0, 0, 0, 0, 0, 0,\n",
              "       0, 0, 0, 0, 0, 0, 1, 1, 1, 1, 1, 1, 1, 1, 1, 1, 1, 1, 1, 1, 1, 1,\n",
              "       1, 1, 1, 1, 1, 1, 1, 1, 1, 1, 1, 1, 1, 1, 1, 1, 1, 1, 1, 1, 1, 1,\n",
              "       1, 1, 1, 1, 1, 1, 1, 1, 1, 1, 1, 1, 2, 2, 2, 2, 2, 2, 2, 2, 2, 2,\n",
              "       2, 2, 2, 2, 2, 2, 2, 2, 2, 2, 2, 2, 2, 2, 2, 2, 2, 2, 2, 2, 2, 2,\n",
              "       2, 2, 2, 2, 2, 2, 2, 2, 2, 2, 2, 2, 2, 2, 2, 2, 2, 2])"
            ]
          },
          "metadata": {},
          "execution_count": 48
        }
      ]
    },
    {
      "cell_type": "code",
      "source": [
        "#alpha: opacite, s: grosseur du point\n",
        "plt.scatter(x[:, 0], x[:,1], c=y, alpha=0.5, s=x[:, 2]*100)\n",
        "plt.xlabel('long sépal')\n",
        "plt.ylabel('large sépal')\n",
        "#limit only 2 vars"
      ],
      "metadata": {
        "colab": {
          "base_uri": "https://localhost:8080/"
        },
        "id": "hRF07TxW6zm6",
        "outputId": "a8b4c734-f2c8-46a0-90a1-8d78c8965d8a"
      },
      "execution_count": 49,
      "outputs": [
        {
          "output_type": "execute_result",
          "data": {
            "text/plain": [
              "Text(11.069444444444452, 0.5, 'large sépal')"
            ]
          },
          "metadata": {},
          "execution_count": 49
        }
      ]
    },
    {
      "cell_type": "code",
      "source": [
        "#graphe 3D\n",
        "%matplotlib\n",
        "from mpl_toolkits.mplot3d import Axes3D"
      ],
      "metadata": {
        "colab": {
          "base_uri": "https://localhost:8080/"
        },
        "id": "mq7Y4pH168_f",
        "outputId": "8cf2bb5a-3cf5-421e-f0fa-95cce4eb64d2"
      },
      "execution_count": 50,
      "outputs": [
        {
          "output_type": "stream",
          "name": "stdout",
          "text": [
            "Using matplotlib backend: agg\n"
          ]
        }
      ]
    },
    {
      "cell_type": "code",
      "source": [
        "ax=plt.axes(projection='3d')\n",
        "ax.scatter(x[:, 0], x[:, 1], x[:,2], c=y)"
      ],
      "metadata": {
        "colab": {
          "base_uri": "https://localhost:8080/"
        },
        "id": "PEWrX8DL7r2J",
        "outputId": "2cf1cea4-c5f5-4412-da7b-10e65372d0cc"
      },
      "execution_count": 51,
      "outputs": [
        {
          "output_type": "execute_result",
          "data": {
            "text/plain": [
              "<mpl_toolkits.mplot3d.art3d.Path3DCollection at 0x796e1bb7fb80>"
            ]
          },
          "metadata": {},
          "execution_count": 51
        }
      ]
    },
    {
      "cell_type": "code",
      "source": [],
      "metadata": {
        "id": "QYAelx77JVGe"
      },
      "execution_count": null,
      "outputs": []
    }
  ]
}