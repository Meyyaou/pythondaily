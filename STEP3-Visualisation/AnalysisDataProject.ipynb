{
  "nbformat": 4,
  "nbformat_minor": 0,
  "metadata": {
    "colab": {
      "provenance": [],
      "authorship_tag": "ABX9TyNftXt3QMp59w+2NZ5KR7qx",
      "include_colab_link": true
    },
    "kernelspec": {
      "name": "python3",
      "display_name": "Python 3"
    },
    "language_info": {
      "name": "python"
    }
  },
  "cells": [
    {
      "cell_type": "markdown",
      "metadata": {
        "id": "view-in-github",
        "colab_type": "text"
      },
      "source": [
        "<a href=\"https://colab.research.google.com/github/Meyyaou/pythondaily/blob/main/STEP3-Visualisation/AnalysisDataProject.ipynb\" target=\"_parent\"><img src=\"https://colab.research.google.com/assets/colab-badge.svg\" alt=\"Open In Colab\"/></a>"
      ]
    },
    {
      "cell_type": "code",
      "source": [
        "import pandas as pd\n",
        "import numpy as np\n",
        "import matplotlib.pyplot as plt\n"
      ],
      "metadata": {
        "id": "_OBB2Ay5LZMW"
      },
      "execution_count": 1,
      "outputs": []
    },
    {
      "cell_type": "code",
      "source": [
        "#step1: read the file"
      ],
      "metadata": {
        "id": "SV5uPQnSLjOD"
      },
      "execution_count": null,
      "outputs": []
    },
    {
      "cell_type": "code",
      "source": [
        "#step2: etude and know what to search(var of results) => if structured/not"
      ],
      "metadata": {
        "id": "-g3OV82HL7lv"
      },
      "execution_count": null,
      "outputs": []
    },
    {
      "cell_type": "code",
      "source": [
        "#step3: verif nan vals/outline analysis(= noise data => drop them)"
      ],
      "metadata": {
        "id": "bhOjop4jMCQf"
      },
      "execution_count": null,
      "outputs": []
    },
    {
      "cell_type": "code",
      "source": [
        "#step4: normalize data"
      ],
      "metadata": {
        "id": "eNo_RwfSMLOb"
      },
      "execution_count": null,
      "outputs": []
    },
    {
      "cell_type": "code",
      "source": [
        "#step5: verif correlation"
      ],
      "metadata": {
        "id": "5HFzP9IWMSQN"
      },
      "execution_count": 2,
      "outputs": []
    },
    {
      "cell_type": "code",
      "source": [
        "#step6: plot?"
      ],
      "metadata": {
        "id": "Itzu7clzMVo_"
      },
      "execution_count": null,
      "outputs": []
    }
  ]
}