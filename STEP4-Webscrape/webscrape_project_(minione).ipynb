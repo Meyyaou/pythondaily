{
  "nbformat": 4,
  "nbformat_minor": 0,
  "metadata": {
    "colab": {
      "provenance": [],
      "authorship_tag": "ABX9TyO4V1pouEruIHnjS7jUvW6e",
      "include_colab_link": true
    },
    "kernelspec": {
      "name": "python3",
      "display_name": "Python 3"
    },
    "language_info": {
      "name": "python"
    }
  },
  "cells": [
    {
      "cell_type": "markdown",
      "metadata": {
        "id": "view-in-github",
        "colab_type": "text"
      },
      "source": [
        "<a href=\"https://colab.research.google.com/github/Meyyaou/pythondaily/blob/main/STEP4-Webscrape/webscrape_project_(minione).ipynb\" target=\"_parent\"><img src=\"https://colab.research.google.com/assets/colab-badge.svg\" alt=\"Open In Colab\"/></a>"
      ]
    },
    {
      "cell_type": "code",
      "execution_count": 20,
      "metadata": {
        "id": "Pkg3OALPAEd0"
      },
      "outputs": [],
      "source": [
        "#import all tools\n",
        "from bs4 import BeautifulSoup\n",
        "import requests\n",
        "import pandas as pd\n",
        "import lxml\n",
        "import urllib.parse"
      ]
    },
    {
      "cell_type": "code",
      "source": [
        "#from search page to individually each page\n",
        "header={'user-agent': 'Mozilla/5.0 (Windows NT 10.0; Win64; x64) AppleWebKit/537.36 (KHTML, like Gecko) Chrome/126.0.0.0 Safari/537.36', 'accept-language': 'fr-FR,fr;q=0.9,en-US;q=0.8,en;q=0.7,ar;q=0.6'}"
      ],
      "metadata": {
        "id": "SPRLqK3YCqEA"
      },
      "execution_count": 21,
      "outputs": []
    },
    {
      "cell_type": "code",
      "source": [
        "#to get readable html post parsing\n",
        "#soup.prettify()"
      ],
      "metadata": {
        "id": "4f5yxF4NHgcG",
        "collapsed": true
      },
      "execution_count": 22,
      "outputs": []
    },
    {
      "cell_type": "code",
      "source": [
        "def get_book_info(url):\n",
        "    page=requests.get(url,headers=header)\n",
        "    soup=BeautifulSoup(page.text, 'lxml')\n",
        "    #get title\n",
        "    title_elem= soup.select_one(\"#productTitle\")\n",
        "    title=title_elem.text if title_elem else None\n",
        "    #print(title)\n",
        "    #get author\n",
        "    author_elem=soup.select_one('span.author')\n",
        "    author=author_elem.text if author_elem else None\n",
        "    #print(author)\n",
        "    #get date de sortie\n",
        "    date_elem=soup.select_one(\"#rpi-attribute-book_details-publication_date > div.a-section.a-spacing-none.a-text-center.rpi-attribute-value > span\")\n",
        "\n",
        "    date=date_elem.text.strip() if date_elem else None\n",
        "    #print(date)\n",
        "    #get price prime deal\n",
        "    full_price_elem= soup.select_one('span.a-price-whole')\n",
        "    frac_price_elem=soup.select_one('span.a-price-fraction')\n",
        "    curr_elem=soup.select_one(\"span.a-price-symbol\")\n",
        "    price=full_price_elem.text+frac_price_elem.text+curr_elem.text if full_price_elem and frac_price_elem and curr_elem else None\n",
        "    #print(price)\n",
        "\n",
        "    #get ordre in top vente\n",
        "    order_bs_elem= soup.select_one(\"div.zg-badge-wrapper > a > i\")\n",
        "    order_bs=order_bs_elem.text if order_bs_elem else None\n",
        "\n",
        "    cat_bs_elem=soup.select_one(\"div.zg-badge-wrapper > a > span > span\")\n",
        "    cat_bs=cat_bs_elem.text if cat_bs_elem else None\n",
        "    #print(order_bs, cat_bs)\n",
        "\n",
        "    #get price livraison ?wherfe is itttt\n",
        "    #get price kindle?\n",
        "    return {\n",
        "        'title': title,\n",
        "        'author': author,\n",
        "        'date': date,\n",
        "        'price': price,\n",
        "        'order_bs': order_bs,\n",
        "        'cat_bs': cat_bs\n",
        "    }"
      ],
      "metadata": {
        "id": "0JP6dEmoMDnQ"
      },
      "execution_count": 23,
      "outputs": []
    },
    {
      "cell_type": "code",
      "source": [
        "\n",
        "counter = 0\n",
        "\n",
        "def search_res_listing(url_search, books_data):\n",
        "    global counter\n",
        "    response = requests.get(url_search, headers=header)\n",
        "    search_soup = BeautifulSoup(response.text, 'lxml')\n",
        "    url_elem_list = search_soup.select('[data-asin] h2 a')\n",
        "\n",
        "    for url_elem in url_elem_list:\n",
        "        if counter >= 20:\n",
        "            return books_data\n",
        "        url = urllib.parse.urljoin(url_search, url_elem.attrs.get(\"href\"))\n",
        "        book_info = get_book_info(url)\n",
        "        books_data.append(book_info)\n",
        "        counter += 1\n",
        "\n",
        "    next_book_el = search_soup.select_one('a:contains(\"Next\")')\n",
        "    if next_book_el and counter < 20:\n",
        "        next_book_url = next_book_el.attrs.get('href')\n",
        "        next_book_url = urllib.parse.urljoin(url_search, next_book_url)\n",
        "        books_data = search_res_listing(next_book_url, books_data)\n",
        "\n",
        "    return books_data"
      ],
      "metadata": {
        "id": "KrmMGA3kyWG7"
      },
      "execution_count": 25,
      "outputs": []
    },
    {
      "cell_type": "code",
      "source": [
        "s_url=\"https://www.amazon.com/s?k=manga&rh=n%3A4367&ref=nb_sb_noss\"\n",
        "books_data = search_res_listing(s_url, [])\n",
        "dataframe = pd.DataFrame(books_data)\n",
        "dataframe.to_csv(\"mangas_amazon_test1.csv\", index=False, sep=',')"
      ],
      "metadata": {
        "id": "h0MnPf3PycrA"
      },
      "execution_count": 26,
      "outputs": []
    },
    {
      "cell_type": "code",
      "source": [
        "#tronquer what we dont need! => was when we searched for infos from results page, not consequent!\n",
        "#for header in soup.find_all('header'):\n",
        "#  header.decompose()\n",
        "#soup.find('div', class_='navLeftFooter').decompose()\n",
        "#soup.find_all('div', class_='navLeftFooter')\n",
        "#soup.find('div', class_='rhf-frame').decompose()\n",
        "#soup.find('div', class_='copilot-secure-display').decompose()"
      ],
      "metadata": {
        "colab": {
          "base_uri": "https://localhost:8080/"
        },
        "id": "d8ehGmUFHsZg",
        "outputId": "08278ebc-3288-4b98-942a-0c3c78238dbe"
      },
      "execution_count": null,
      "outputs": [
        {
          "output_type": "execute_result",
          "data": {
            "text/plain": [
              "[]"
            ]
          },
          "metadata": {},
          "execution_count": 24
        }
      ]
    },
    {
      "cell_type": "code",
      "source": [
        "#get the title\n",
        "#titles=[]\n",
        "#pattern =re.compile(r'\\d+')\n",
        "\n",
        "#for title in soup.find_all('span', class_='a-text-normal'):\n",
        "#  if not pattern.match(title.string):\n",
        "#    titles.append(title.string)\n",
        "#    title\n",
        "#titles"
      ],
      "metadata": {
        "id": "nY_X_rLoJJPP",
        "colab": {
          "base_uri": "https://localhost:8080/"
        },
        "outputId": "4f05879e-9492-4b61-9976-a9da4d5c2a97"
      },
      "execution_count": null,
      "outputs": [
        {
          "output_type": "execute_result",
          "data": {
            "text/plain": [
              "[]"
            ]
          },
          "metadata": {},
          "execution_count": 26
        }
      ]
    },
    {
      "cell_type": "code",
      "source": [
        "#get auteur\n",
        "#auteurs=[]\n",
        "\n",
        "#for auteur in soup.find_all('span', class_='a-size-base'):\n",
        "#  auteurs.append(auteur.string)\n",
        "#auteurs\n"
      ],
      "metadata": {
        "colab": {
          "base_uri": "https://localhost:8080/"
        },
        "id": "KpwaBUJYKk3m",
        "outputId": "5388c554-3be4-497b-e376-738cf5fce0ca"
      },
      "execution_count": null,
      "outputs": [
        {
          "output_type": "execute_result",
          "data": {
            "text/plain": [
              "[]"
            ]
          },
          "metadata": {},
          "execution_count": 27
        }
      ]
    },
    {
      "cell_type": "code",
      "source": [
        "#DATA preprocessing: normalisation des champs"
      ],
      "metadata": {
        "id": "yAvFgrU1SRaV",
        "colab": {
          "base_uri": "https://localhost:8080/"
        },
        "outputId": "1b3e6ce4-cbae-43ac-d6a3-85b5f3f1a922"
      },
      "execution_count": 35,
      "outputs": [
        {
          "output_type": "execute_result",
          "data": {
            "text/plain": [
              "0                                      in Romance Manga\n",
              "1                                       in Shonen Manga\n",
              "2                           in Action & Adventure Manga\n",
              "3                                                  None\n",
              "4                                      in Fantasy Manga\n",
              "5                                                  None\n",
              "6                                                  None\n",
              "7                                                  None\n",
              "8                                                  None\n",
              "9                                                  None\n",
              "10                                                 None\n",
              "11                                                 None\n",
              "12                                                 None\n",
              "13                                                 None\n",
              "14                                                 None\n",
              "15                                                 None\n",
              "16                                                 None\n",
              "17    in Young Adult Action & Adventure Comics & Gra...\n",
              "18                                                 None\n",
              "19                                                 None\n",
              "Name: cat_bs, dtype: object"
            ]
          },
          "metadata": {},
          "execution_count": 35
        }
      ]
    },
    {
      "cell_type": "code",
      "source": [
        "#DATA ANALYSIS some basic plots"
      ],
      "metadata": {
        "id": "GAk3ZjSazjc7"
      },
      "execution_count": null,
      "outputs": []
    },
    {
      "cell_type": "code",
      "source": [
        "#email stuff doesnt work for gmail\n",
        "import smtplib\n",
        "from email.message import EmailMessage"
      ],
      "metadata": {
        "id": "9FG7pJ_stT2d"
      },
      "execution_count": null,
      "outputs": []
    },
    {
      "cell_type": "code",
      "source": [
        "senderEmail='sender@gmail.com'\n",
        "recieverEmail = 'reciever@gmail.com'\n",
        "password = input(str(\"please enter your pswd: \"))\n",
        "msg= \"hey that's a quick test lol !\"\n",
        "server = smtplib.SMTP_SSL('smtp.gmail.com', 465)\n",
        "server.ehlo()\n",
        "server.login(senderEmail, password)\n",
        "print('login successful!')\n",
        "server.sendmail(senderEmail, recieverEmail, msg)\n",
        "print(\"email has been sent to reciever\")\n",
        "server.close()"
      ],
      "metadata": {
        "colab": {
          "base_uri": "https://localhost:8080/",
          "height": 356
        },
        "id": "HFQPWtQHtZx4",
        "outputId": "2f2a29f3-3c62-427d-8408-56bf84ad3725"
      },
      "execution_count": null,
      "outputs": [
        {
          "output_type": "error",
          "ename": "KeyboardInterrupt",
          "evalue": "Interrupted by user",
          "traceback": [
            "\u001b[0;31m---------------------------------------------------------------------------\u001b[0m",
            "\u001b[0;31mKeyboardInterrupt\u001b[0m                         Traceback (most recent call last)",
            "\u001b[0;32m<ipython-input-62-fb28dc6a72a0>\u001b[0m in \u001b[0;36m<cell line: 3>\u001b[0;34m()\u001b[0m\n\u001b[1;32m      1\u001b[0m \u001b[0msenderEmail\u001b[0m\u001b[0;34m=\u001b[0m\u001b[0;34m'sender@gmail.com'\u001b[0m\u001b[0;34m\u001b[0m\u001b[0;34m\u001b[0m\u001b[0m\n\u001b[1;32m      2\u001b[0m \u001b[0mrecieverEmail\u001b[0m \u001b[0;34m=\u001b[0m \u001b[0;34m'reciever@gmail.com'\u001b[0m\u001b[0;34m\u001b[0m\u001b[0;34m\u001b[0m\u001b[0m\n\u001b[0;32m----> 3\u001b[0;31m \u001b[0mpassword\u001b[0m \u001b[0;34m=\u001b[0m \u001b[0minput\u001b[0m\u001b[0;34m(\u001b[0m\u001b[0mstr\u001b[0m\u001b[0;34m(\u001b[0m\u001b[0;34m\"please enter your pswd: \"\u001b[0m\u001b[0;34m)\u001b[0m\u001b[0;34m)\u001b[0m\u001b[0;34m\u001b[0m\u001b[0;34m\u001b[0m\u001b[0m\n\u001b[0m\u001b[1;32m      4\u001b[0m \u001b[0mmsg\u001b[0m\u001b[0;34m=\u001b[0m \u001b[0;34m\"hey that's a quick test lol !\"\u001b[0m\u001b[0;34m\u001b[0m\u001b[0;34m\u001b[0m\u001b[0m\n\u001b[1;32m      5\u001b[0m \u001b[0mserver\u001b[0m \u001b[0;34m=\u001b[0m \u001b[0msmtplib\u001b[0m\u001b[0;34m.\u001b[0m\u001b[0mSMTP_SSL\u001b[0m\u001b[0;34m(\u001b[0m\u001b[0;34m'smtp.gmail.com'\u001b[0m\u001b[0;34m,\u001b[0m \u001b[0;36m465\u001b[0m\u001b[0;34m)\u001b[0m\u001b[0;34m\u001b[0m\u001b[0;34m\u001b[0m\u001b[0m\n",
            "\u001b[0;32m/usr/local/lib/python3.10/dist-packages/ipykernel/kernelbase.py\u001b[0m in \u001b[0;36mraw_input\u001b[0;34m(self, prompt)\u001b[0m\n\u001b[1;32m    849\u001b[0m                 \u001b[0;34m\"raw_input was called, but this frontend does not support input requests.\"\u001b[0m\u001b[0;34m\u001b[0m\u001b[0;34m\u001b[0m\u001b[0m\n\u001b[1;32m    850\u001b[0m             )\n\u001b[0;32m--> 851\u001b[0;31m         return self._input_request(str(prompt),\n\u001b[0m\u001b[1;32m    852\u001b[0m             \u001b[0mself\u001b[0m\u001b[0;34m.\u001b[0m\u001b[0m_parent_ident\u001b[0m\u001b[0;34m,\u001b[0m\u001b[0;34m\u001b[0m\u001b[0;34m\u001b[0m\u001b[0m\n\u001b[1;32m    853\u001b[0m             \u001b[0mself\u001b[0m\u001b[0;34m.\u001b[0m\u001b[0m_parent_header\u001b[0m\u001b[0;34m,\u001b[0m\u001b[0;34m\u001b[0m\u001b[0;34m\u001b[0m\u001b[0m\n",
            "\u001b[0;32m/usr/local/lib/python3.10/dist-packages/ipykernel/kernelbase.py\u001b[0m in \u001b[0;36m_input_request\u001b[0;34m(self, prompt, ident, parent, password)\u001b[0m\n\u001b[1;32m    893\u001b[0m             \u001b[0;32mexcept\u001b[0m \u001b[0mKeyboardInterrupt\u001b[0m\u001b[0;34m:\u001b[0m\u001b[0;34m\u001b[0m\u001b[0;34m\u001b[0m\u001b[0m\n\u001b[1;32m    894\u001b[0m                 \u001b[0;31m# re-raise KeyboardInterrupt, to truncate traceback\u001b[0m\u001b[0;34m\u001b[0m\u001b[0;34m\u001b[0m\u001b[0m\n\u001b[0;32m--> 895\u001b[0;31m                 \u001b[0;32mraise\u001b[0m \u001b[0mKeyboardInterrupt\u001b[0m\u001b[0;34m(\u001b[0m\u001b[0;34m\"Interrupted by user\"\u001b[0m\u001b[0;34m)\u001b[0m \u001b[0;32mfrom\u001b[0m \u001b[0;32mNone\u001b[0m\u001b[0;34m\u001b[0m\u001b[0;34m\u001b[0m\u001b[0m\n\u001b[0m\u001b[1;32m    896\u001b[0m             \u001b[0;32mexcept\u001b[0m \u001b[0mException\u001b[0m \u001b[0;32mas\u001b[0m \u001b[0me\u001b[0m\u001b[0;34m:\u001b[0m\u001b[0;34m\u001b[0m\u001b[0;34m\u001b[0m\u001b[0m\n\u001b[1;32m    897\u001b[0m                 \u001b[0mself\u001b[0m\u001b[0;34m.\u001b[0m\u001b[0mlog\u001b[0m\u001b[0;34m.\u001b[0m\u001b[0mwarning\u001b[0m\u001b[0;34m(\u001b[0m\u001b[0;34m\"Invalid Message:\"\u001b[0m\u001b[0;34m,\u001b[0m \u001b[0mexc_info\u001b[0m\u001b[0;34m=\u001b[0m\u001b[0;32mTrue\u001b[0m\u001b[0;34m)\u001b[0m\u001b[0;34m\u001b[0m\u001b[0;34m\u001b[0m\u001b[0m\n",
            "\u001b[0;31mKeyboardInterrupt\u001b[0m: Interrupted by user"
          ]
        }
      ]
    }
  ]
}