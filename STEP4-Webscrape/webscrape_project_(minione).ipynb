{
  "nbformat": 4,
  "nbformat_minor": 0,
  "metadata": {
    "colab": {
      "provenance": [],
      "authorship_tag": "ABX9TyO0j4gXTedU0yqKvsEZFw4m",
      "include_colab_link": true
    },
    "kernelspec": {
      "name": "python3",
      "display_name": "Python 3"
    },
    "language_info": {
      "name": "python"
    }
  },
  "cells": [
    {
      "cell_type": "markdown",
      "metadata": {
        "id": "view-in-github",
        "colab_type": "text"
      },
      "source": [
        "<a href=\"https://colab.research.google.com/github/Meyyaou/pythondaily/blob/main/STEP4-Webscrape/webscrape_project_(minione).ipynb\" target=\"_parent\"><img src=\"https://colab.research.google.com/assets/colab-badge.svg\" alt=\"Open In Colab\"/></a>"
      ]
    },
    {
      "cell_type": "code",
      "execution_count": 42,
      "metadata": {
        "id": "Pkg3OALPAEd0"
      },
      "outputs": [],
      "source": [
        "#import all tools\n",
        "from bs4 import BeautifulSoup\n",
        "import requests\n",
        "import pandas as pd\n",
        "import lxml\n",
        "import re"
      ]
    },
    {
      "cell_type": "code",
      "source": [
        "#urls=[]\n",
        "#urls.append(\"https://www.amazon.fr/Dragon-Ball-Super-Akira-Toriyama/dp/234406446X/ref=sr_1_3?content-id=amzn1.sym.6dd8bd97-fb7f-4645-b144-27f8255dbcd8&dib=eyJ2IjoiMSJ9.kIDCwAetKapTRz2B-l_-WkqvUMs8DhBa5-HbF_QML4fILA3GQGnFIK41u_VDvjCs973vxX3jk_zma7gpNzMW3ixQzEYiDFC4LhRoVmHTiUz-8sgEDXDom4BRfMZNJHO_uLXqk1v-nh2zQ3CMIH8IRLtBy99zPX8PRumLaILRC0mVWRJ7s9PZ0gyXhncJrk5cvLWJpIxZ8IMrktEcurwrNvroypFv0fb0qHmxhWyFOUA.vP3gdHKlVcCeiQihNSQs4oJhZhzpJRxMpY1ErtVS3K8&dib_tag=se&pd_rd_r=adfe474f-e4a1-4cdd-b4f5-8f9b5bf26580&pd_rd_w=QVxJ8&pd_rd_wg=TnXxt&pf_rd_p=6dd8bd97-fb7f-4645-b144-27f8255dbcd8&pf_rd_r=F16SHWEG7V4Z3YQ0W5B6&qid=1720620825&refinements=p_72%3A184904031&s=books&sr=1-3\")\n",
        "#urls.append(\"https://www.amazon.fr/Carnets-lapothicaire-T13-Natsu-Hyuuga/dp/B0CW5W4CMQ/ref=sr_1_4?content-id=amzn1.sym.6dd8bd97-fb7f-4645-b144-27f8255dbcd8&dib=eyJ2IjoiMSJ9.kIDCwAetKapTRz2B-l_-WkqvUMs8DhBa5-HbF_QML4fILA3GQGnFIK41u_VDvjCs973vxX3jk_zma7gpNzMW3ixQzEYiDFC4LhRoVmHTiUz-8sgEDXDom4BRfMZNJHO_uLXqk1v-nh2zQ3CMIH8IRLtBy99zPX8PRumLaILRC0mVWRJ7s9PZ0gyXhncJrk5cvLWJpIxZ8IMrktEcurwrNvroypFv0fb0qHmxhWyFOUA.vP3gdHKlVcCeiQihNSQs4oJhZhzpJRxMpY1ErtVS3K8&dib_tag=se&pd_rd_r=adfe474f-e4a1-4cdd-b4f5-8f9b5bf26580&pd_rd_w=QVxJ8&pd_rd_wg=TnXxt&pf_rd_p=6dd8bd97-fb7f-4645-b144-27f8255dbcd8&pf_rd_r=F16SHWEG7V4Z3YQ0W5B6&qid=1720620825&refinements=p_72%3A184904031&s=books&sr=1-4\")\n",
        "#urls.append(\"https://www.amazon.fr/Solo-Leveling-DUBU-REDICE-STUDIO/dp/2382882557/ref=sr_1_5?content-id=amzn1.sym.6dd8bd97-fb7f-4645-b144-27f8255dbcd8&dib=eyJ2IjoiMSJ9.kIDCwAetKapTRz2B-l_-WkqvUMs8DhBa5-HbF_QML4fILA3GQGnFIK41u_VDvjCs973vxX3jk_zma7gpNzMW3ixQzEYiDFC4LhRoVmHTiUz-8sgEDXDom4BRfMZNJHO_uLXqk1v-nh2zQ3CMIH8IRLtBy99zPX8PRumLaILRC0mVWRJ7s9PZ0gyXhncJrk5cvLWJpIxZ8IMrktEcurwrNvroypFv0fb0qHmxhWyFOUA.vP3gdHKlVcCeiQihNSQs4oJhZhzpJRxMpY1ErtVS3K8&dib_tag=se&pd_rd_r=adfe474f-e4a1-4cdd-b4f5-8f9b5bf26580&pd_rd_w=QVxJ8&pd_rd_wg=TnXxt&pf_rd_p=6dd8bd97-fb7f-4645-b144-27f8255dbcd8&pf_rd_r=F16SHWEG7V4Z3YQ0W5B6&qid=1720620825&refinements=p_72%3A184904031&s=books&sr=1-5\")\n",
        "#urls.append(\"https://www.amazon.fr/Dragon-Ball-Full-Color-Lenfance/dp/2344061568/ref=sr_1_6?content-id=amzn1.sym.6dd8bd97-fb7f-4645-b144-27f8255dbcd8&dib=eyJ2IjoiMSJ9.kIDCwAetKapTRz2B-l_-WkqvUMs8DhBa5-HbF_QML4fILA3GQGnFIK41u_VDvjCs973vxX3jk_zma7gpNzMW3ixQzEYiDFC4LhRoVmHTiUz-8sgEDXDom4BRfMZNJHO_uLXqk1v-nh2zQ3CMIH8IRLtBy99zPX8PRumLaILRC0mVWRJ7s9PZ0gyXhncJrk5cvLWJpIxZ8IMrktEcurwrNvroypFv0fb0qHmxhWyFOUA.vP3gdHKlVcCeiQihNSQs4oJhZhzpJRxMpY1ErtVS3K8&dib_tag=se&pd_rd_r=adfe474f-e4a1-4cdd-b4f5-8f9b5bf26580&pd_rd_w=QVxJ8&pd_rd_wg=TnXxt&pf_rd_p=6dd8bd97-fb7f-4645-b144-27f8255dbcd8&pf_rd_r=F16SHWEG7V4Z3YQ0W5B6&qid=1720620825&refinements=p_72%3A184904031&s=books&sr=1-6\")\n",
        "#urls.append(\"https://www.amazon.fr/Dragon-Ball-Full-Color-Lenfance/dp/2344061576/ref=sr_1_8?content-id=amzn1.sym.6dd8bd97-fb7f-4645-b144-27f8255dbcd8&dib=eyJ2IjoiMSJ9.kIDCwAetKapTRz2B-l_-WkqvUMs8DhBa5-HbF_QML4fILA3GQGnFIK41u_VDvjCs973vxX3jk_zma7gpNzMW3ixQzEYiDFC4LhRoVmHTiUz-8sgEDXDom4BRfMZNJHO_uLXqk1v-nh2zQ3CMIH8IRLtBy99zPX8PRumLaILRC0mVWRJ7s9PZ0gyXhncJrk5cvLWJpIxZ8IMrktEcurwrNvroypFv0fb0qHmxhWyFOUA.vP3gdHKlVcCeiQihNSQs4oJhZhzpJRxMpY1ErtVS3K8&dib_tag=se&pd_rd_r=adfe474f-e4a1-4cdd-b4f5-8f9b5bf26580&pd_rd_w=QVxJ8&pd_rd_wg=TnXxt&pf_rd_p=6dd8bd97-fb7f-4645-b144-27f8255dbcd8&pf_rd_r=F16SHWEG7V4Z3YQ0W5B6&qid=1720620825&refinements=p_72%3A184904031&s=books&sr=1-8\")\n",
        "#urls.append(\"https://www.amazon.fr/One-Punch-Man-29-One/dp/B0CW5RB58G/ref=sr_1_9?content-id=amzn1.sym.6dd8bd97-fb7f-4645-b144-27f8255dbcd8&dib=eyJ2IjoiMSJ9.kIDCwAetKapTRz2B-l_-WkqvUMs8DhBa5-HbF_QML4fILA3GQGnFIK41u_VDvjCs973vxX3jk_zma7gpNzMW3ixQzEYiDFC4LhRoVmHTiUz-8sgEDXDom4BRfMZNJHO_uLXqk1v-nh2zQ3CMIH8IRLtBy99zPX8PRumLaILRC0mVWRJ7s9PZ0gyXhncJrk5cvLWJpIxZ8IMrktEcurwrNvroypFv0fb0qHmxhWyFOUA.vP3gdHKlVcCeiQihNSQs4oJhZhzpJRxMpY1ErtVS3K8&dib_tag=se&pd_rd_r=adfe474f-e4a1-4cdd-b4f5-8f9b5bf26580&pd_rd_w=QVxJ8&pd_rd_wg=TnXxt&pf_rd_p=6dd8bd97-fb7f-4645-b144-27f8255dbcd8&pf_rd_r=F16SHWEG7V4Z3YQ0W5B6&qid=1720620825&refinements=p_72%3A184904031&s=books&sr=1-9\")\n",
        "#urls.append(\"https://www.amazon.fr/Berserk-42-Kentaro-Miura/dp/2344063641/ref=sr_1_10?content-id=amzn1.sym.6dd8bd97-fb7f-4645-b144-27f8255dbcd8&dib=eyJ2IjoiMSJ9.kIDCwAetKapTRz2B-l_-WkqvUMs8DhBa5-HbF_QML4fILA3GQGnFIK41u_VDvjCs973vxX3jk_zma7gpNzMW3ixQzEYiDFC4LhRoVmHTiUz-8sgEDXDom4BRfMZNJHO_uLXqk1v-nh2zQ3CMIH8IRLtBy99zPX8PRumLaILRC0mVWRJ7s9PZ0gyXhncJrk5cvLWJpIxZ8IMrktEcurwrNvroypFv0fb0qHmxhWyFOUA.vP3gdHKlVcCeiQihNSQs4oJhZhzpJRxMpY1ErtVS3K8&dib_tag=se&pd_rd_r=adfe474f-e4a1-4cdd-b4f5-8f9b5bf26580&pd_rd_w=QVxJ8&pd_rd_wg=TnXxt&pf_rd_p=6dd8bd97-fb7f-4645-b144-27f8255dbcd8&pf_rd_r=F16SHWEG7V4Z3YQ0W5B6&qid=1720620825&refinements=p_72%3A184904031&s=books&sr=1-10\")\n",
        "#urls.append(\"https://www.amazon.fr/One-Piece-Coffret-Marine-Tomes/dp/2344062688/ref=sr_1_11?content-id=amzn1.sym.6dd8bd97-fb7f-4645-b144-27f8255dbcd8&dib=eyJ2IjoiMSJ9.kIDCwAetKapTRz2B-l_-WkqvUMs8DhBa5-HbF_QML4fILA3GQGnFIK41u_VDvjCs973vxX3jk_zma7gpNzMW3ixQzEYiDFC4LhRoVmHTiUz-8sgEDXDom4BRfMZNJHO_uLXqk1v-nh2zQ3CMIH8IRLtBy99zPX8PRumLaILRC0mVWRJ7s9PZ0gyXhncJrk5cvLWJpIxZ8IMrktEcurwrNvroypFv0fb0qHmxhWyFOUA.vP3gdHKlVcCeiQihNSQs4oJhZhzpJRxMpY1ErtVS3K8&dib_tag=se&pd_rd_r=adfe474f-e4a1-4cdd-b4f5-8f9b5bf26580&pd_rd_w=QVxJ8&pd_rd_wg=TnXxt&pf_rd_p=6dd8bd97-fb7f-4645-b144-27f8255dbcd8&pf_rd_r=F16SHWEG7V4Z3YQ0W5B6&qid=1720620825&refinements=p_72%3A184904031&s=books&sr=1-11\")\n",
        "#urls.append(\"https://www.amazon.fr/Tokyo-Revengers-31-Coffret-collector/dp/2344061800/ref=sr_1_13?content-id=amzn1.sym.6dd8bd97-fb7f-4645-b144-27f8255dbcd8&dib=eyJ2IjoiMSJ9.kIDCwAetKapTRz2B-l_-WkqvUMs8DhBa5-HbF_QML4fILA3GQGnFIK41u_VDvjCs973vxX3jk_zma7gpNzMW3ixQzEYiDFC4LhRoVmHTiUz-8sgEDXDom4BRfMZNJHO_uLXqk1v-nh2zQ3CMIH8IRLtBy99zPX8PRumLaILRC0mVWRJ7s9PZ0gyXhncJrk5cvLWJpIxZ8IMrktEcurwrNvroypFv0fb0qHmxhWyFOUA.vP3gdHKlVcCeiQihNSQs4oJhZhzpJRxMpY1ErtVS3K8&dib_tag=se&pd_rd_r=adfe474f-e4a1-4cdd-b4f5-8f9b5bf26580&pd_rd_w=QVxJ8&pd_rd_wg=TnXxt&pf_rd_p=6dd8bd97-fb7f-4645-b144-27f8255dbcd8&pf_rd_r=F16SHWEG7V4Z3YQ0W5B6&qid=1720620825&refinements=p_72%3A184904031&s=books&sr=1-13\")\n",
        "#urls.append(\"https://www.amazon.fr/Jujutsu-Kaisen-T24-Gege-Akutami/dp/B0CW5Q9PH6/ref=sr_1_14?content-id=amzn1.sym.6dd8bd97-fb7f-4645-b144-27f8255dbcd8&dib=eyJ2IjoiMSJ9.kIDCwAetKapTRz2B-l_-WkqvUMs8DhBa5-HbF_QML4fILA3GQGnFIK41u_VDvjCs973vxX3jk_zma7gpNzMW3ixQzEYiDFC4LhRoVmHTiUz-8sgEDXDom4BRfMZNJHO_uLXqk1v-nh2zQ3CMIH8IRLtBy99zPX8PRumLaILRC0mVWRJ7s9PZ0gyXhncJrk5cvLWJpIxZ8IMrktEcurwrNvroypFv0fb0qHmxhWyFOUA.vP3gdHKlVcCeiQihNSQs4oJhZhzpJRxMpY1ErtVS3K8&dib_tag=se&pd_rd_r=adfe474f-e4a1-4cdd-b4f5-8f9b5bf26580&pd_rd_w=QVxJ8&pd_rd_wg=TnXxt&pf_rd_p=6dd8bd97-fb7f-4645-b144-27f8255dbcd8&pf_rd_r=F16SHWEG7V4Z3YQ0W5B6&qid=1720620825&refinements=p_72%3A184904031&s=books&sr=1-14\")\n",
        "url=\"https://www.amazon.fr/s?rh=n%3A302004%2Cp_72%3A4-&content-id=amzn1.sym.6dd8bd97-fb7f-4645-b144-27f8255dbcd8&pd_rd_r=adfe474f-e4a1-4cdd-b4f5-8f9b5bf26580&pd_rd_w=QVxJ8&pd_rd_wg=TnXxt&pf_rd_p=6dd8bd97-fb7f-4645-b144-27f8255dbcd8&pf_rd_r=F16SHWEG7V4Z3YQ0W5B6&ref=Oct_d_otopr_S\""
      ],
      "metadata": {
        "id": "SPRLqK3YCqEA"
      },
      "execution_count": 55,
      "outputs": []
    },
    {
      "cell_type": "code",
      "source": [
        "page=requests.get(url)\n",
        "#page"
      ],
      "metadata": {
        "id": "6NYhluPCEu12"
      },
      "execution_count": 54,
      "outputs": []
    },
    {
      "cell_type": "code",
      "source": [
        "content=page.text\n",
        "#content"
      ],
      "metadata": {
        "id": "mnbckyuWG5fV"
      },
      "execution_count": 56,
      "outputs": []
    },
    {
      "cell_type": "code",
      "source": [
        "soup=BeautifulSoup(content, 'lxml')"
      ],
      "metadata": {
        "id": "HiB0OZqEHXWN"
      },
      "execution_count": 22,
      "outputs": []
    },
    {
      "cell_type": "code",
      "source": [
        "#to get readable html post parsing\n",
        "#soup.prettify()"
      ],
      "metadata": {
        "id": "4f5yxF4NHgcG"
      },
      "execution_count": 58,
      "outputs": []
    },
    {
      "cell_type": "code",
      "source": [
        "for header in soup.find_all('header'):\n",
        "  header.decompose()\n",
        "soup.find_all('header')"
      ],
      "metadata": {
        "colab": {
          "base_uri": "https://localhost:8080/"
        },
        "id": "d8ehGmUFHsZg",
        "outputId": "3da318fd-ca28-4bcc-cf36-66af4fa657f0"
      },
      "execution_count": 59,
      "outputs": [
        {
          "output_type": "execute_result",
          "data": {
            "text/plain": [
              "[]"
            ]
          },
          "metadata": {},
          "execution_count": 59
        }
      ]
    },
    {
      "cell_type": "code",
      "source": [
        "#get the title\n",
        "titles=[]\n",
        "pattern =re.compile(r'\\d+')\n",
        "\n",
        "for title in soup.find_all('span', class_='a-text-normal'):\n",
        "  if not pattern.match(title.string):\n",
        "    titles.append(title.string)\n",
        "#titles"
      ],
      "metadata": {
        "id": "nY_X_rLoJJPP"
      },
      "execution_count": 60,
      "outputs": []
    },
    {
      "cell_type": "code",
      "source": [
        "#get auteur\n",
        "auteurs=[]\n",
        "\n",
        "for auteur in soup.find_all('span', class_='a-size-base'):\n",
        "  auteurs.append(auteur.string)\n",
        "#auteurs"
      ],
      "metadata": {
        "id": "KpwaBUJYKk3m"
      },
      "execution_count": 63,
      "outputs": []
    },
    {
      "cell_type": "code",
      "source": [
        "#get date de sortie"
      ],
      "metadata": {
        "id": "cr5zG5qGKSbP"
      },
      "execution_count": null,
      "outputs": []
    },
    {
      "cell_type": "code",
      "source": [
        "#get price"
      ],
      "metadata": {
        "id": "XmfvlN6AKUxH"
      },
      "execution_count": null,
      "outputs": []
    },
    {
      "cell_type": "code",
      "source": [
        "#get price livraison"
      ],
      "metadata": {
        "id": "4_mEEabVKe4t"
      },
      "execution_count": null,
      "outputs": []
    },
    {
      "cell_type": "code",
      "source": [
        "#get price kindle"
      ],
      "metadata": {
        "id": "Zm18h8RZKqnO"
      },
      "execution_count": null,
      "outputs": []
    },
    {
      "cell_type": "code",
      "source": [
        "#get ordre dans le top!"
      ],
      "metadata": {
        "id": "e1TWYoGCKz1K"
      },
      "execution_count": null,
      "outputs": []
    }
  ]
}