{
  "nbformat": 4,
  "nbformat_minor": 0,
  "metadata": {
    "colab": {
      "provenance": [],
      "authorship_tag": "ABX9TyNdyGKH3yJFW59+yuUxXFsV",
      "include_colab_link": true
    },
    "kernelspec": {
      "name": "python3",
      "display_name": "Python 3"
    },
    "language_info": {
      "name": "python"
    }
  },
  "cells": [
    {
      "cell_type": "markdown",
      "metadata": {
        "id": "view-in-github",
        "colab_type": "text"
      },
      "source": [
        "<a href=\"https://colab.research.google.com/github/Meyyaou/pythondaily/blob/main/STEP4-Webscrape/webscrape_project_(minione).ipynb\" target=\"_parent\"><img src=\"https://colab.research.google.com/assets/colab-badge.svg\" alt=\"Open In Colab\"/></a>"
      ]
    },
    {
      "cell_type": "markdown",
      "source": [
        "must fix the scraping part with a proxy - the headers are not enough to stop the 503 response\n"
      ],
      "metadata": {
        "id": "mbD1eFkzX9xU"
      }
    },
    {
      "cell_type": "code",
      "execution_count": 9,
      "metadata": {
        "id": "Pkg3OALPAEd0"
      },
      "outputs": [],
      "source": [
        "#import all tools\n",
        "from bs4 import BeautifulSoup\n",
        "import requests\n",
        "import pandas as pd\n",
        "import lxml\n",
        "import urllib.parse"
      ]
    },
    {
      "cell_type": "code",
      "source": [
        "#from search page to individually each page\n",
        "url=\"https://www.amazon.com/s?k=manga&rh=n%3A4367&ref=nb_sb_noss\"\n",
        "header= {'User-Agent': 'Mozilla/5.0 (Windows NT 10.0; Win64; x64) AppleWebKit/537.36 (KHTML, like Gecko) Chrome/126.0.0.0 Safari/537.36'}\n",
        "MAX_RESULTS = 20"
      ],
      "metadata": {
        "id": "SPRLqK3YCqEA"
      },
      "execution_count": 25,
      "outputs": []
    },
    {
      "cell_type": "code",
      "source": [
        "page=requests.get(url,headers=header)\n",
        "soup=BeautifulSoup(page.text, 'lxml')\n",
        "#page"
      ],
      "metadata": {
        "id": "nn8Sg3lWfxjY",
        "colab": {
          "base_uri": "https://localhost:8080/"
        },
        "outputId": "60627be8-8315-49e9-eee9-306cd720029d"
      },
      "execution_count": 26,
      "outputs": [
        {
          "output_type": "execute_result",
          "data": {
            "text/plain": [
              "<Response [503]>"
            ]
          },
          "metadata": {},
          "execution_count": 26
        }
      ]
    },
    {
      "cell_type": "code",
      "source": [
        "#to get readable html post parsing\n",
        "#soup.prettify()"
      ],
      "metadata": {
        "id": "4f5yxF4NHgcG",
        "colab": {
          "base_uri": "https://localhost:8080/",
          "height": 139
        },
        "outputId": "0363c39a-10d0-4e7d-8912-1b22cb29c9d9"
      },
      "execution_count": 17,
      "outputs": [
        {
          "output_type": "execute_result",
          "data": {
            "text/plain": [
              "'<!--\\n        To discuss automated access to Amazon data please contact api-services-support@amazon.com.\\n        For information about migrating to our APIs refer to our Marketplace APIs at https://developer.amazonservices.com/ref=rm_5_sv, or our Product Advertising API at https://affiliate-program.amazon.com/gp/advertising/api/detail/main.html/ref=rm_5_ac for advertising use cases.\\n-->\\n<!DOCTYPE html>\\n<html>\\n <head>\\n  <meta charset=\"utf-8\"/>\\n  <meta content=\"ie=edge\" http-equiv=\"x-ua-compatible\"/>\\n  <meta content=\"width=device-width, initial-scale=1, shrink-to-fit=no\" name=\"viewport\"/>\\n  <title>\\n   Sorry! Something went wrong!\\n  </title>\\n  <style>\\n   html, body {\\n    padding: 0;\\n    margin: 0\\n  }\\n\\n  img {\\n    border: 0\\n  }\\n\\n  #a {\\n    background: #232f3e;\\n    padding: 11px 11px 11px 192px\\n  }\\n\\n  #b {\\n    position: absolute;\\n    left: 22px;\\n    top: 12px\\n  }\\n\\n  #c {\\n    position: relative;\\n    max-width: 800px;\\n    padding: 0 40px 0 0\\n  }\\n\\n  #e, #f {\\n    height: 35px;\\n    border: 0;\\n    font-size: 1em\\n  }\\n\\n  #e {\\n    width: 100%;\\n    margin: 0;\\n    padding: 0 10px;\\n    border-radius: 4px 0 0 4px\\n  }\\n\\n  #f {\\n    cursor: pointer;\\n    background: #febd69;\\n    font-weight: bold;\\n    border-radius: 0 4px 4px 0;\\n    -webkit-appearance: none;\\n    position: absolute;\\n    top: 0;\\n    right: 0;\\n    padding: 0 12px\\n  }\\n\\n  @media (max-width: 500px) {\\n    #a {\\n      padding: 55px 10px 10px\\n    }\\n\\n    #b {\\n      left: 6px\\n    }\\n  }\\n\\n  #g {\\n    text-align: center;\\n    margin: 30px 0\\n  }\\n\\n  #g img {\\n    max-width: 90%\\n  }\\n\\n  #d {\\n    display: none\\n  }\\n\\n  #d[src] {\\n    display: inline\\n  }\\n  </style>\\n </head>\\n <body>\\n  <a href=\"/ref=cs_503_logo\">\\n   <img alt=\"Amazon.com\" id=\"b\" src=\"https://images-na.ssl-images-amazon.com/images/G/01/error/logo._TTD_.png\"/>\\n  </a>\\n  <form accept-charset=\"utf-8\" action=\"/s\" id=\"a\" method=\"GET\" role=\"search\">\\n   <div id=\"c\">\\n    <input id=\"e\" name=\"field-keywords\" placeholder=\"Search\"/>\\n    <input name=\"ref\" type=\"hidden\" value=\"cs_503_search\"/>\\n    <input id=\"f\" type=\"submit\" value=\"Go\"/>\\n   </div>\\n  </form>\\n  <div id=\"g\">\\n   <div>\\n    <a href=\"/ref=cs_503_link\">\\n     <img alt=\"Sorry! Something went wrong on our end. Please go back and try again or go to Amazon\\'s home page.\" src=\"https://images-na.ssl-images-amazon.com/images/G/01/error/500_503.png\"/>\\n    </a>\\n   </div>\\n   <a href=\"/dogsofamazon/ref=cs_503_d\" rel=\"noopener noreferrer\" target=\"_blank\">\\n    <img alt=\"Dogs of Amazon\" id=\"d\"/>\\n   </a>\\n   <script>\\n    document.getElementById(\"d\").src = \"https://images-na.ssl-images-amazon.com/images/G/01/error/\" + (Math.floor(Math.random() * 43) + 1) + \"._TTD_.jpg\";\\n   </script>\\n  </div>\\n </body>\\n</html>\\n'"
            ],
            "application/vnd.google.colaboratory.intrinsic+json": {
              "type": "string"
            }
          },
          "metadata": {},
          "execution_count": 17
        }
      ]
    },
    {
      "cell_type": "code",
      "source": [
        "def get_book_info(url):\n",
        "    page=requests.get(url,headers=header)\n",
        "    soup=BeautifulSoup(page.text, 'lxml')\n",
        "    print('the page status ', page)\n",
        "\n",
        "    #get title\n",
        "    title_elem= soup.select_one(\"#productTitle\")\n",
        "    title=title_elem.text if title_elem else None\n",
        "    #print(title)\n",
        "    #get author\n",
        "    author_elem=soup.select_one('span.author')\n",
        "    author=author_elem.text if author_elem else None\n",
        "    #print(author)\n",
        "    #get date de sortie\n",
        "    date_elem=soup.select_one(\"#rpi-attribute-book_details-publication_date > div.a-section.a-spacing-none.a-text-center.rpi-attribute-value > span\")\n",
        "\n",
        "    date=date_elem.text.strip() if date_elem else None\n",
        "    #print(date)\n",
        "    #get price prime deal\n",
        "    full_price_elem= soup.select_one('span.a-price-whole')\n",
        "    frac_price_elem=soup.select_one('span.a-price-fraction')\n",
        "    curr_elem=soup.select_one(\"span.a-price-symbol\")\n",
        "    price=full_price_elem.text+frac_price_elem.text+curr_elem.text if full_price_elem and frac_price_elem and curr_elem else None\n",
        "    #print(price)\n",
        "\n",
        "    #get ordre in top vente\n",
        "    order_bs_elem= soup.select_one(\"div.zg-badge-wrapper > a > i\")\n",
        "    order_bs=order_bs_elem.text if order_bs_elem else None\n",
        "\n",
        "    cat_bs_elem=soup.select_one(\"div.zg-badge-wrapper > a > span > span\")\n",
        "    cat_bs=cat_bs_elem.text if cat_bs_elem else None\n",
        "    #print(order_bs, cat_bs)\n",
        "\n",
        "    #get price livraison ?wherfe is itttt\n",
        "    #get price kindle?\n",
        "    return {\n",
        "        'title': title,\n",
        "        'author': author,\n",
        "        'date': date,\n",
        "        'price': price,\n",
        "        'order_bs': order_bs,\n",
        "        'cat_bs': cat_bs\n",
        "    }"
      ],
      "metadata": {
        "id": "0JP6dEmoMDnQ"
      },
      "execution_count": 5,
      "outputs": []
    },
    {
      "cell_type": "code",
      "source": [
        "counter=0\n",
        "def search_res_listing(url_search, books_data):\n",
        "    global counter\n",
        "    response = requests.get(url_search, headers=HEADER)\n",
        "    print('the result status ', response)\n",
        "\n",
        "    search_soup = BeautifulSoup(response.text, 'lxml')\n",
        "    url_elem_list = search_soup.select('[data-asin] h2 a')\n",
        "\n",
        "    for url_elem in url_elem_list:\n",
        "        if counter >= MAX_RESULTS:\n",
        "            return books_data\n",
        "        url = urllib.parse.urljoin(url_search, url_elem.attrs.get(\"href\"))\n",
        "        book_info = get_book_info(url)\n",
        "        books_data.append(book_info)\n",
        "        counter += 1\n",
        "\n",
        "    next_book_el = search_soup.select_one('a:-soup-contains(\"Next\")')\n",
        "    if next_book_el and counter < MAX_RESULTS:\n",
        "        next_book_url = next_book_el.attrs.get('href')\n",
        "        next_book_url = urllib.parse.urljoin(url_search, next_book_url)\n",
        "        books_data = search_res_listing(next_book_url, books_data)\n",
        "\n",
        "    return books_data"
      ],
      "metadata": {
        "id": "KrmMGA3kyWG7"
      },
      "execution_count": 6,
      "outputs": []
    },
    {
      "cell_type": "code",
      "source": [
        "s_url=\"https://www.amazon.com/s?k=manga&rh=n%3A4367&ref=nb_sb_noss\"\n",
        "books_data = search_res_listing(s_url, [])\n",
        "dataframe = pd.DataFrame(books_data)\n",
        "dataframe.to_csv(\"mangas_amazon_test1.csv\", index=False, sep=',')"
      ],
      "metadata": {
        "id": "h0MnPf3PycrA"
      },
      "execution_count": 7,
      "outputs": []
    },
    {
      "cell_type": "code",
      "source": [
        "#tronquer what we dont need! => was when we searched for infos from results page, not consequent!\n",
        "#for header in soup.find_all('header'):\n",
        "#  header.decompose()\n",
        "#soup.find('div', class_='navLeftFooter').decompose()\n",
        "#soup.find_all('div', class_='navLeftFooter')\n",
        "#soup.find('div', class_='rhf-frame').decompose()\n",
        "#soup.find('div', class_='copilot-secure-display').decompose()"
      ],
      "metadata": {
        "id": "d8ehGmUFHsZg"
      },
      "execution_count": null,
      "outputs": []
    },
    {
      "cell_type": "code",
      "source": [
        "#get the title\n",
        "#titles=[]\n",
        "#pattern =re.compile(r'\\d+')\n",
        "\n",
        "#for title in soup.find_all('span', class_='a-text-normal'):\n",
        "#  if not pattern.match(title.string):\n",
        "#    titles.append(title.string)\n",
        "#    title\n",
        "#titles"
      ],
      "metadata": {
        "id": "nY_X_rLoJJPP"
      },
      "execution_count": null,
      "outputs": []
    },
    {
      "cell_type": "code",
      "source": [
        "#get auteur\n",
        "#auteurs=[]\n",
        "\n",
        "#for auteur in soup.find_all('span', class_='a-size-base'):\n",
        "#  auteurs.append(auteur.string)\n",
        "#auteurs\n"
      ],
      "metadata": {
        "id": "KpwaBUJYKk3m"
      },
      "execution_count": null,
      "outputs": []
    },
    {
      "cell_type": "code",
      "source": [
        "dataframe.info()"
      ],
      "metadata": {
        "colab": {
          "base_uri": "https://localhost:8080/"
        },
        "id": "q9BkppiU3g5-",
        "outputId": "8d4939b4-1431-47cf-f0e1-3bb8ee63cf4e"
      },
      "execution_count": null,
      "outputs": [
        {
          "output_type": "stream",
          "name": "stdout",
          "text": [
            "<class 'pandas.core.frame.DataFrame'>\n",
            "RangeIndex: 0 entries\n",
            "Empty DataFrame\n"
          ]
        }
      ]
    },
    {
      "cell_type": "code",
      "source": [
        "dataframe[\"author\"]"
      ],
      "metadata": {
        "colab": {
          "base_uri": "https://localhost:8080/",
          "height": 304
        },
        "id": "fvEQEDCd8_fM",
        "outputId": "751b36e9-c3a8-4371-f0b4-763d6186ce08"
      },
      "execution_count": null,
      "outputs": [
        {
          "output_type": "error",
          "ename": "KeyError",
          "evalue": "'author'",
          "traceback": [
            "\u001b[0;31m---------------------------------------------------------------------------\u001b[0m",
            "\u001b[0;31mKeyError\u001b[0m                                  Traceback (most recent call last)",
            "\u001b[0;32m<ipython-input-25-ee47d972a878>\u001b[0m in \u001b[0;36m<cell line: 1>\u001b[0;34m()\u001b[0m\n\u001b[0;32m----> 1\u001b[0;31m \u001b[0mdataframe\u001b[0m\u001b[0;34m[\u001b[0m\u001b[0;34m\"author\"\u001b[0m\u001b[0;34m]\u001b[0m\u001b[0;34m\u001b[0m\u001b[0;34m\u001b[0m\u001b[0m\n\u001b[0m",
            "\u001b[0;32m/usr/local/lib/python3.10/dist-packages/pandas/core/frame.py\u001b[0m in \u001b[0;36m__getitem__\u001b[0;34m(self, key)\u001b[0m\n\u001b[1;32m   3759\u001b[0m             \u001b[0;32mif\u001b[0m \u001b[0mself\u001b[0m\u001b[0;34m.\u001b[0m\u001b[0mcolumns\u001b[0m\u001b[0;34m.\u001b[0m\u001b[0mnlevels\u001b[0m \u001b[0;34m>\u001b[0m \u001b[0;36m1\u001b[0m\u001b[0;34m:\u001b[0m\u001b[0;34m\u001b[0m\u001b[0;34m\u001b[0m\u001b[0m\n\u001b[1;32m   3760\u001b[0m                 \u001b[0;32mreturn\u001b[0m \u001b[0mself\u001b[0m\u001b[0;34m.\u001b[0m\u001b[0m_getitem_multilevel\u001b[0m\u001b[0;34m(\u001b[0m\u001b[0mkey\u001b[0m\u001b[0;34m)\u001b[0m\u001b[0;34m\u001b[0m\u001b[0;34m\u001b[0m\u001b[0m\n\u001b[0;32m-> 3761\u001b[0;31m             \u001b[0mindexer\u001b[0m \u001b[0;34m=\u001b[0m \u001b[0mself\u001b[0m\u001b[0;34m.\u001b[0m\u001b[0mcolumns\u001b[0m\u001b[0;34m.\u001b[0m\u001b[0mget_loc\u001b[0m\u001b[0;34m(\u001b[0m\u001b[0mkey\u001b[0m\u001b[0;34m)\u001b[0m\u001b[0;34m\u001b[0m\u001b[0;34m\u001b[0m\u001b[0m\n\u001b[0m\u001b[1;32m   3762\u001b[0m             \u001b[0;32mif\u001b[0m \u001b[0mis_integer\u001b[0m\u001b[0;34m(\u001b[0m\u001b[0mindexer\u001b[0m\u001b[0;34m)\u001b[0m\u001b[0;34m:\u001b[0m\u001b[0;34m\u001b[0m\u001b[0;34m\u001b[0m\u001b[0m\n\u001b[1;32m   3763\u001b[0m                 \u001b[0mindexer\u001b[0m \u001b[0;34m=\u001b[0m \u001b[0;34m[\u001b[0m\u001b[0mindexer\u001b[0m\u001b[0;34m]\u001b[0m\u001b[0;34m\u001b[0m\u001b[0;34m\u001b[0m\u001b[0m\n",
            "\u001b[0;32m/usr/local/lib/python3.10/dist-packages/pandas/core/indexes/range.py\u001b[0m in \u001b[0;36mget_loc\u001b[0;34m(self, key)\u001b[0m\n\u001b[1;32m    347\u001b[0m                 \u001b[0;32mraise\u001b[0m \u001b[0mKeyError\u001b[0m\u001b[0;34m(\u001b[0m\u001b[0mkey\u001b[0m\u001b[0;34m)\u001b[0m \u001b[0;32mfrom\u001b[0m \u001b[0merr\u001b[0m\u001b[0;34m\u001b[0m\u001b[0;34m\u001b[0m\u001b[0m\n\u001b[1;32m    348\u001b[0m         \u001b[0;32mif\u001b[0m \u001b[0misinstance\u001b[0m\u001b[0;34m(\u001b[0m\u001b[0mkey\u001b[0m\u001b[0;34m,\u001b[0m \u001b[0mHashable\u001b[0m\u001b[0;34m)\u001b[0m\u001b[0;34m:\u001b[0m\u001b[0;34m\u001b[0m\u001b[0;34m\u001b[0m\u001b[0m\n\u001b[0;32m--> 349\u001b[0;31m             \u001b[0;32mraise\u001b[0m \u001b[0mKeyError\u001b[0m\u001b[0;34m(\u001b[0m\u001b[0mkey\u001b[0m\u001b[0;34m)\u001b[0m\u001b[0;34m\u001b[0m\u001b[0;34m\u001b[0m\u001b[0m\n\u001b[0m\u001b[1;32m    350\u001b[0m         \u001b[0mself\u001b[0m\u001b[0;34m.\u001b[0m\u001b[0m_check_indexing_error\u001b[0m\u001b[0;34m(\u001b[0m\u001b[0mkey\u001b[0m\u001b[0;34m)\u001b[0m\u001b[0;34m\u001b[0m\u001b[0;34m\u001b[0m\u001b[0m\n\u001b[1;32m    351\u001b[0m         \u001b[0;32mraise\u001b[0m \u001b[0mKeyError\u001b[0m\u001b[0;34m(\u001b[0m\u001b[0mkey\u001b[0m\u001b[0;34m)\u001b[0m\u001b[0;34m\u001b[0m\u001b[0;34m\u001b[0m\u001b[0m\n",
            "\u001b[0;31mKeyError\u001b[0m: 'author'"
          ]
        }
      ]
    },
    {
      "cell_type": "code",
      "source": [
        "df=dataframe"
      ],
      "metadata": {
        "id": "6-Aoe5C8_C6X"
      },
      "execution_count": null,
      "outputs": []
    },
    {
      "cell_type": "code",
      "source": [
        "#DATA preprocessing: format des champs\n",
        "#date\n",
        "df['date']= pd.to_datetime(df['date'])\n",
        "#\n",
        "auths= df['author']\n",
        "for i,auth in enumerate(auths):\n",
        "  auth_name=\"\"\n",
        "  auth=auth.split(\" \")\n",
        "  auth_name+=auth[0]\n",
        "  auth_name+=' '\n",
        "  auth_name+=auth[1] if 'Author' not in auth[1] else \"\"\n",
        "  auth_name=auth_name.split(\"\\n\")[1]\n",
        "  df.loc[i,\"author\"]=auth_name\n",
        "#print(df['author'])"
      ],
      "metadata": {
        "id": "yAvFgrU1SRaV"
      },
      "execution_count": null,
      "outputs": []
    },
    {
      "cell_type": "code",
      "source": [
        "import numpy as np"
      ],
      "metadata": {
        "id": "1hB2f0j0GD4V"
      },
      "execution_count": null,
      "outputs": []
    },
    {
      "cell_type": "code",
      "source": [
        "df.head()\n",
        "#cat_bs drop the in keep list of cats and if none=> No bs\n",
        "df['cat_bs']=df['cat_bs'].fillna(\"No bs\")\n",
        "cats=df['cat_bs']\n",
        "cat_bs = []\n",
        "for cat in cats:\n",
        "  if cat != 'No bs':\n",
        "    words=str(cat).split(' ')\n",
        "    filtr_words=[]\n",
        "    i=0\n",
        "    if words[0]=='in':\n",
        "      i=1\n",
        "    while i <len(words):\n",
        "      if words[i]==\"&\":\n",
        "        if i>0 and filtr_words:\n",
        "          filtr_words[-1]=filtr_words[-1]+' '+words[i+1]\n",
        "        i+=2\n",
        "      else:\n",
        "        filtr_words.append(words[i])\n",
        "        i+=1\n",
        "    cat_bs.append(filtr_words)\n",
        "  else:\n",
        "    cat_bs.append([\"No bs\"])\n",
        "#print(cat_bs)\n",
        "df['cat_bs']=cat_bs"
      ],
      "metadata": {
        "id": "8cTs5MuqDdAv"
      },
      "execution_count": null,
      "outputs": []
    },
    {
      "cell_type": "code",
      "source": [
        "df.head()"
      ],
      "metadata": {
        "id": "ilLGg8XIJemy"
      },
      "execution_count": null,
      "outputs": []
    },
    {
      "cell_type": "code",
      "source": [
        "#order_bs if none=> No bs\n",
        "df['order_bs']=df['order_bs'].fillna(\"No bs\")"
      ],
      "metadata": {
        "id": "h8M3cX3IJecr"
      },
      "execution_count": null,
      "outputs": []
    },
    {
      "cell_type": "code",
      "source": [
        "#DATA ANALYSIS some basic plots\n",
        "import matplotlib.pyplot as plt\n",
        "import seaborn as sns\n",
        "\n",
        "#annee de publication\n",
        "plt.hist(df['date'],bins=20)\n",
        "\n",
        "#df['date'].hist()"
      ],
      "metadata": {
        "id": "yU8616MApGmJ"
      },
      "execution_count": null,
      "outputs": []
    },
    {
      "cell_type": "code",
      "source": [
        "#price\n",
        "plt.figure()\n",
        "plt.plot(df['price'], c='green', marker='o', linestyle='-')\n",
        "plt.xlabel('Index')\n",
        "plt.ylabel('Price ($)')\n",
        "plt.tight_layout()\n",
        "plt.show()"
      ],
      "metadata": {
        "id": "GAk3ZjSazjc7"
      },
      "execution_count": null,
      "outputs": []
    },
    {
      "cell_type": "code",
      "source": [
        "#between order_bs and cat_bs\n",
        "crosstab = pd.crosstab(df['order_bs'], df['cat_bs'])\n",
        "\n",
        "plt.figure(figsize=(8,6))\n",
        "sns.heatmap(crosstab, annot=True, cmap='coolwarm')\n",
        "plt.show()"
      ],
      "metadata": {
        "id": "qOxV_dgzpH9N"
      },
      "execution_count": null,
      "outputs": []
    },
    {
      "cell_type": "code",
      "source": [
        "#email alert stuff\n",
        "import smtplib\n",
        "from email.mime.text import MIMEText\n",
        "from email.mime.multipart import MIMEMultipart"
      ],
      "metadata": {
        "id": "9FG7pJ_stT2d"
      },
      "execution_count": null,
      "outputs": []
    },
    {
      "cell_type": "code",
      "source": [
        "def email_alert(subject,body,to):\n",
        "  msg=MIMEMultipart()\n",
        "  msg.attach(MIMEText(body, 'plain'))\n",
        "  msg['subject']=subject\n",
        "  msg['to']=to\n",
        "  user = 'x'\n",
        "  msg['from']=user\n",
        "\n",
        "  pwd = 'x'\n",
        "\n",
        "  server=smtplib.SMTP(\"smtp.gmail.com\",587)\n",
        "  server.starttls()\n",
        "  server.login(user,pwd)\n",
        "  server.send_message(msg)\n",
        "  server.quit()"
      ],
      "metadata": {
        "id": "Og9aQp3hoGeu"
      },
      "execution_count": null,
      "outputs": []
    },
    {
      "cell_type": "code",
      "source": [
        "#email_alert('hey', \"hello world it's a test man\", 'rec@gmail.com')"
      ],
      "metadata": {
        "id": "QbK_h9sbourR"
      },
      "execution_count": null,
      "outputs": []
    },
    {
      "cell_type": "code",
      "source": [
        "#variation analysis\n",
        "def variation_analysis(old_data_path, new_data_path):\n",
        "    old_data = pd.read_csv(old_data_path)\n",
        "    new_data = pd.read_csv(new_data_path)\n",
        "\n",
        "    for ind, row in new_data.iterrows():\n",
        "        old_row = old_data[old_data['title'] == row['title']]\n",
        "\n",
        "        if not old_row.empty:\n",
        "            old_row = old_row.iloc[0]\n",
        "\n",
        "            if row['price'] != old_row['price']:\n",
        "                email_alert('Price Changing', f\"the price of {row['title']} has changed from {old_row['price']} to {row['price']}\", 'rec@gmail.com')\n",
        "\n",
        "            if row['order_bs'] != old_row['order_bs']:\n",
        "                email_alert('Order of Best Seller Changing', f\"{row['title']} that had {old_row['order_bs']} as an order of best selling, in {old_row['cat_bs']} category(ies) before, has now an order of {row['order_bs']} in {row['cat_bs']} category(ies)\", 'rec@gmail.com')\n",
        "        else:\n",
        "            email_alert('New manga added', f\"A new manga has appeared in your best sellers search results: {row['title']} by {row['author']} published in {row['date']} is at position {row['order_bs']} in category {row['cat_bs']}.\", 'rec@gmail.com')\n",
        "\n",
        "    for ind, row in old_data.iterrows():\n",
        "        if row['title'] not in new_data['title'].values:\n",
        "            email_alert('Manga disappeard !', f\"the manga {row['title']} by {row['author']}, published in {row['date']} is no longer a best-seller\", 'rec@gmail.com')\n",
        "\n",
        "    new_data.to_csv('manga_amazon_test3.csv', index=False)"
      ],
      "metadata": {
        "id": "_hAiYqFM2XaY"
      },
      "execution_count": null,
      "outputs": []
    },
    {
      "cell_type": "code",
      "source": [
        "old_data=pd.read_csv('mangas_amazon_test1.csv')\n",
        "new_data=pd.read_csv('mangas_amazon_test2.csv')\n",
        "variation_analysis(old_data, new_data)"
      ],
      "metadata": {
        "id": "rg4AQBBwwI1p"
      },
      "execution_count": null,
      "outputs": []
    }
  ]
}