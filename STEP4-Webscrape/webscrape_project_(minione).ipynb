{
  "nbformat": 4,
  "nbformat_minor": 0,
  "metadata": {
    "colab": {
      "provenance": [],
      "authorship_tag": "ABX9TyNQrRv14+A4gplHNSIKwhYt",
      "include_colab_link": true
    },
    "kernelspec": {
      "name": "python3",
      "display_name": "Python 3"
    },
    "language_info": {
      "name": "python"
    }
  },
  "cells": [
    {
      "cell_type": "markdown",
      "metadata": {
        "id": "view-in-github",
        "colab_type": "text"
      },
      "source": [
        "<a href=\"https://colab.research.google.com/github/Meyyaou/pythondaily/blob/main/STEP4-Webscrape/webscrape_project_(minione).ipynb\" target=\"_parent\"><img src=\"https://colab.research.google.com/assets/colab-badge.svg\" alt=\"Open In Colab\"/></a>"
      ]
    },
    {
      "cell_type": "code",
      "execution_count": 37,
      "metadata": {
        "id": "Pkg3OALPAEd0"
      },
      "outputs": [],
      "source": [
        "#import all tools\n",
        "from bs4 import BeautifulSoup\n",
        "import requests\n",
        "import pandas as pd\n",
        "import lxml\n",
        "import re"
      ]
    },
    {
      "cell_type": "code",
      "source": [
        "url=\"https://www.amazon.fr/s?rh=n%3A302004%2Cp_72%3A4-&content-id=amzn1.sym.6dd8bd97-fb7f-4645-b144-27f8255dbcd8&pd_rd_r=adfe474f-e4a1-4cdd-b4f5-8f9b5bf26580&pd_rd_w=QVxJ8&pd_rd_wg=TnXxt&pf_rd_p=6dd8bd97-fb7f-4645-b144-27f8255dbcd8&pf_rd_r=F16SHWEG7V4Z3YQ0W5B6&ref=Oct_d_otopr_S\""
      ],
      "metadata": {
        "id": "SPRLqK3YCqEA"
      },
      "execution_count": 38,
      "outputs": []
    },
    {
      "cell_type": "code",
      "source": [
        "page=requests.get(url)\n",
        "page"
      ],
      "metadata": {
        "id": "6NYhluPCEu12"
      },
      "execution_count": null,
      "outputs": []
    },
    {
      "cell_type": "code",
      "source": [
        "content=page.text\n",
        "#content"
      ],
      "metadata": {
        "id": "mnbckyuWG5fV"
      },
      "execution_count": 40,
      "outputs": []
    },
    {
      "cell_type": "code",
      "source": [
        "soup=BeautifulSoup(content, 'lxml')"
      ],
      "metadata": {
        "id": "HiB0OZqEHXWN"
      },
      "execution_count": 41,
      "outputs": []
    },
    {
      "cell_type": "code",
      "source": [
        "#to get readable html post parsing\n",
        "soup.prettify()"
      ],
      "metadata": {
        "id": "4f5yxF4NHgcG",
        "colab": {
          "base_uri": "https://localhost:8080/",
          "height": 139
        },
        "outputId": "acc67a95-1a7b-4fe9-aec5-902df5c42a5f"
      },
      "execution_count": 42,
      "outputs": [
        {
          "output_type": "execute_result",
          "data": {
            "text/plain": [
              "'<html>\\n <head>\\n  <title>\\n   Toutes nos excuses\\n  </title>\\n  <style type=\"text/css\">\\n   <!--\\n.serif { font-family: times,serif; font-size: small; }\\n.sans { font-family: verdana,arial,helvetica,sans-serif; font-size: small; }\\n.small { font-family: verdana,arial,helvetica,sans-serif; font-size: x-small; }\\n.h1 { font-family: verdana,arial,helvetica,sans-serif; color: #CC6600; font-size: small; }\\n.h3color { font-family: verdana,arial,helvetica,sans-serif; color: #CC6600; font-size: x-small; }\\n.tiny { font-family: verdana,arial,helvetica,sans-serif; font-size: xx-small; }\\n.listprice { font-family: arial,verdana,helvetica,sans-serif; text-decoration: line-through; font-size: x-small; }\\n.price { font-family: verdana,arial,helvetica,sans-serif; color: #990000; font-size: x-small; }\\n-->\\n  </style>\\n </head>\\n <body alink=\"#FF9933\" bgcolor=\"#FFFFFF\" link=\"#003399\" text=\"#000000\" vlink=\"#996633\">\\n  <!--\\n        To discuss automated access to Amazon data please contact api-services-support@amazon.com.\\n        For information about migrating to our APIs refer to our Marketplace APIs at https://developer.amazonservices.fr/ref=rm_5_sv, or our Product Advertising API at https://partenaires.amazon.fr/gp/advertising/api/detail/main.html/ref=rm_5_ac for advertising use cases.\\n-->\\n  <center>\\n   <a href=\"https://www.amazon.fr/ref=cs_503_logo/\">\\n    <img alt=\"Amazon.fr\" border=\"0\" height=\"42\" src=\"https://images-eu.ssl-images-amazon.com/images/G/08/include/navigation/logo-amazon.gif\" width=\"141\"/>\\n   </a>\\n   <p>\\n   </p>\\n   <table align=\"center\" bgcolor=\"#ffffff\" border=\"0\" cellpadding=\"3\" cellspacing=\"2\" width=\"90%\">\\n    <tr>\\n     <td>\\n      <h2>\\n       Toutes nos excuses\\n      </h2>\\n      Une erreur de système interne a été décelée. Nos équipes techniques se chargent de la résoudre. Nous vous prions de nous excuser pour la gêne causée.\\n      <p>\\n       <img alt=\"*\" border=\"0\" height=\"9\" src=\"https://images-eu.ssl-images-amazon.com/images/G/08/x-locale/common/orange-arrow.gif\" width=\"10\"/>\\n       <b>\\n        <a href=\"https://www.amazon.fr/ref=cs_503_link/\">\\n         Page d\\'accueil\\n        </a>\\n        d\\'amazon.fr\\n       </b>\\n      </p>\\n     </td>\\n    </tr>\\n   </table>\\n  </center>\\n </body>\\n</html>\\n'"
            ],
            "application/vnd.google.colaboratory.intrinsic+json": {
              "type": "string"
            }
          },
          "metadata": {},
          "execution_count": 42
        }
      ]
    },
    {
      "cell_type": "code",
      "source": [
        "#tronquer what we dont need!\n",
        "for header in soup.find_all('header'):\n",
        "  header.decompose()\n",
        "soup.find('div', class_='navLeftFooter').decompose()\n",
        "soup.find('div', class_='rhf-frame').decompose()\n",
        "soup.find('div', class_='copilot-secure-display').decompose()"
      ],
      "metadata": {
        "colab": {
          "base_uri": "https://localhost:8080/"
        },
        "id": "d8ehGmUFHsZg",
        "outputId": "f8f93d33-e066-4014-fa34-371902df3a9a"
      },
      "execution_count": 26,
      "outputs": [
        {
          "output_type": "execute_result",
          "data": {
            "text/plain": [
              "[]"
            ]
          },
          "metadata": {},
          "execution_count": 26
        }
      ]
    },
    {
      "cell_type": "code",
      "source": [
        "#get the title\n",
        "titles=[]\n",
        "pattern =re.compile(r'\\d+')\n",
        "\n",
        "for title in soup.find_all('span', class_='a-text-normal'):\n",
        "  if not pattern.match(title.string):\n",
        "    titles.append(title.string)\n",
        "    title\n",
        "titles"
      ],
      "metadata": {
        "id": "nY_X_rLoJJPP",
        "colab": {
          "base_uri": "https://localhost:8080/"
        },
        "outputId": "bcaffb5c-091e-4085-9aa8-f157dfa2ce58"
      },
      "execution_count": 43,
      "outputs": [
        {
          "output_type": "execute_result",
          "data": {
            "text/plain": [
              "[]"
            ]
          },
          "metadata": {},
          "execution_count": 43
        }
      ]
    },
    {
      "cell_type": "code",
      "source": [
        "#get auteur\n",
        "auteurs=[]\n",
        "\n",
        "for auteur in soup.find_all('span', class_='a-size-base'):\n",
        "  auteurs.append(auteur.string)\n",
        "auteurs\n"
      ],
      "metadata": {
        "colab": {
          "base_uri": "https://localhost:8080/"
        },
        "id": "KpwaBUJYKk3m",
        "outputId": "492d4d0c-3469-49a3-c490-8257eaa12d3f"
      },
      "execution_count": 46,
      "outputs": [
        {
          "output_type": "execute_result",
          "data": {
            "text/plain": [
              "0"
            ]
          },
          "metadata": {},
          "execution_count": 46
        }
      ]
    },
    {
      "cell_type": "code",
      "source": [
        "#get date de sortie"
      ],
      "metadata": {
        "id": "cr5zG5qGKSbP"
      },
      "execution_count": 10,
      "outputs": []
    },
    {
      "cell_type": "code",
      "source": [
        "#get price"
      ],
      "metadata": {
        "id": "XmfvlN6AKUxH"
      },
      "execution_count": 11,
      "outputs": []
    },
    {
      "cell_type": "code",
      "source": [
        "#get price livraison"
      ],
      "metadata": {
        "id": "4_mEEabVKe4t"
      },
      "execution_count": 12,
      "outputs": []
    },
    {
      "cell_type": "code",
      "source": [
        "#get price kindle"
      ],
      "metadata": {
        "id": "Zm18h8RZKqnO"
      },
      "execution_count": 13,
      "outputs": []
    },
    {
      "cell_type": "code",
      "source": [
        "#get ordre dans le top!"
      ],
      "metadata": {
        "id": "e1TWYoGCKz1K"
      },
      "execution_count": 14,
      "outputs": []
    },
    {
      "cell_type": "code",
      "source": [
        "#DATA ANALYSIS"
      ],
      "metadata": {
        "id": "yAvFgrU1SRaV"
      },
      "execution_count": 15,
      "outputs": []
    },
    {
      "cell_type": "code",
      "source": [
        "#email stuff doesnt work for gmail\n",
        "import smtplib\n",
        "from email.message import EmailMessage"
      ],
      "metadata": {
        "id": "9FG7pJ_stT2d"
      },
      "execution_count": 50,
      "outputs": []
    },
    {
      "cell_type": "code",
      "source": [
        "senderEmail='sender@gmail.com'\n",
        "recieverEmail = 'reciever@gmail.com'\n",
        "password = input(str(\"please enter your pswd: \"))\n",
        "msg= \"hey that's a quick test lol !\"\n",
        "server = smtplib.SMTP_SSL('smtp.gmail.com', 465)\n",
        "server.ehlo()\n",
        "server.login(senderEmail, password)\n",
        "print('login successful!')\n",
        "server.sendmail(senderEmail, recieverEmail, msg)\n",
        "print(\"email has been sent to reciever\")\n",
        "server.close()"
      ],
      "metadata": {
        "colab": {
          "base_uri": "https://localhost:8080/",
          "height": 356
        },
        "id": "HFQPWtQHtZx4",
        "outputId": "2f2a29f3-3c62-427d-8408-56bf84ad3725"
      },
      "execution_count": 62,
      "outputs": [
        {
          "output_type": "error",
          "ename": "KeyboardInterrupt",
          "evalue": "Interrupted by user",
          "traceback": [
            "\u001b[0;31m---------------------------------------------------------------------------\u001b[0m",
            "\u001b[0;31mKeyboardInterrupt\u001b[0m                         Traceback (most recent call last)",
            "\u001b[0;32m<ipython-input-62-fb28dc6a72a0>\u001b[0m in \u001b[0;36m<cell line: 3>\u001b[0;34m()\u001b[0m\n\u001b[1;32m      1\u001b[0m \u001b[0msenderEmail\u001b[0m\u001b[0;34m=\u001b[0m\u001b[0;34m'sender@gmail.com'\u001b[0m\u001b[0;34m\u001b[0m\u001b[0;34m\u001b[0m\u001b[0m\n\u001b[1;32m      2\u001b[0m \u001b[0mrecieverEmail\u001b[0m \u001b[0;34m=\u001b[0m \u001b[0;34m'reciever@gmail.com'\u001b[0m\u001b[0;34m\u001b[0m\u001b[0;34m\u001b[0m\u001b[0m\n\u001b[0;32m----> 3\u001b[0;31m \u001b[0mpassword\u001b[0m \u001b[0;34m=\u001b[0m \u001b[0minput\u001b[0m\u001b[0;34m(\u001b[0m\u001b[0mstr\u001b[0m\u001b[0;34m(\u001b[0m\u001b[0;34m\"please enter your pswd: \"\u001b[0m\u001b[0;34m)\u001b[0m\u001b[0;34m)\u001b[0m\u001b[0;34m\u001b[0m\u001b[0;34m\u001b[0m\u001b[0m\n\u001b[0m\u001b[1;32m      4\u001b[0m \u001b[0mmsg\u001b[0m\u001b[0;34m=\u001b[0m \u001b[0;34m\"hey that's a quick test lol !\"\u001b[0m\u001b[0;34m\u001b[0m\u001b[0;34m\u001b[0m\u001b[0m\n\u001b[1;32m      5\u001b[0m \u001b[0mserver\u001b[0m \u001b[0;34m=\u001b[0m \u001b[0msmtplib\u001b[0m\u001b[0;34m.\u001b[0m\u001b[0mSMTP_SSL\u001b[0m\u001b[0;34m(\u001b[0m\u001b[0;34m'smtp.gmail.com'\u001b[0m\u001b[0;34m,\u001b[0m \u001b[0;36m465\u001b[0m\u001b[0;34m)\u001b[0m\u001b[0;34m\u001b[0m\u001b[0;34m\u001b[0m\u001b[0m\n",
            "\u001b[0;32m/usr/local/lib/python3.10/dist-packages/ipykernel/kernelbase.py\u001b[0m in \u001b[0;36mraw_input\u001b[0;34m(self, prompt)\u001b[0m\n\u001b[1;32m    849\u001b[0m                 \u001b[0;34m\"raw_input was called, but this frontend does not support input requests.\"\u001b[0m\u001b[0;34m\u001b[0m\u001b[0;34m\u001b[0m\u001b[0m\n\u001b[1;32m    850\u001b[0m             )\n\u001b[0;32m--> 851\u001b[0;31m         return self._input_request(str(prompt),\n\u001b[0m\u001b[1;32m    852\u001b[0m             \u001b[0mself\u001b[0m\u001b[0;34m.\u001b[0m\u001b[0m_parent_ident\u001b[0m\u001b[0;34m,\u001b[0m\u001b[0;34m\u001b[0m\u001b[0;34m\u001b[0m\u001b[0m\n\u001b[1;32m    853\u001b[0m             \u001b[0mself\u001b[0m\u001b[0;34m.\u001b[0m\u001b[0m_parent_header\u001b[0m\u001b[0;34m,\u001b[0m\u001b[0;34m\u001b[0m\u001b[0;34m\u001b[0m\u001b[0m\n",
            "\u001b[0;32m/usr/local/lib/python3.10/dist-packages/ipykernel/kernelbase.py\u001b[0m in \u001b[0;36m_input_request\u001b[0;34m(self, prompt, ident, parent, password)\u001b[0m\n\u001b[1;32m    893\u001b[0m             \u001b[0;32mexcept\u001b[0m \u001b[0mKeyboardInterrupt\u001b[0m\u001b[0;34m:\u001b[0m\u001b[0;34m\u001b[0m\u001b[0;34m\u001b[0m\u001b[0m\n\u001b[1;32m    894\u001b[0m                 \u001b[0;31m# re-raise KeyboardInterrupt, to truncate traceback\u001b[0m\u001b[0;34m\u001b[0m\u001b[0;34m\u001b[0m\u001b[0m\n\u001b[0;32m--> 895\u001b[0;31m                 \u001b[0;32mraise\u001b[0m \u001b[0mKeyboardInterrupt\u001b[0m\u001b[0;34m(\u001b[0m\u001b[0;34m\"Interrupted by user\"\u001b[0m\u001b[0;34m)\u001b[0m \u001b[0;32mfrom\u001b[0m \u001b[0;32mNone\u001b[0m\u001b[0;34m\u001b[0m\u001b[0;34m\u001b[0m\u001b[0m\n\u001b[0m\u001b[1;32m    896\u001b[0m             \u001b[0;32mexcept\u001b[0m \u001b[0mException\u001b[0m \u001b[0;32mas\u001b[0m \u001b[0me\u001b[0m\u001b[0;34m:\u001b[0m\u001b[0;34m\u001b[0m\u001b[0;34m\u001b[0m\u001b[0m\n\u001b[1;32m    897\u001b[0m                 \u001b[0mself\u001b[0m\u001b[0;34m.\u001b[0m\u001b[0mlog\u001b[0m\u001b[0;34m.\u001b[0m\u001b[0mwarning\u001b[0m\u001b[0;34m(\u001b[0m\u001b[0;34m\"Invalid Message:\"\u001b[0m\u001b[0;34m,\u001b[0m \u001b[0mexc_info\u001b[0m\u001b[0;34m=\u001b[0m\u001b[0;32mTrue\u001b[0m\u001b[0;34m)\u001b[0m\u001b[0;34m\u001b[0m\u001b[0;34m\u001b[0m\u001b[0m\n",
            "\u001b[0;31mKeyboardInterrupt\u001b[0m: Interrupted by user"
          ]
        }
      ]
    }
  ]
}