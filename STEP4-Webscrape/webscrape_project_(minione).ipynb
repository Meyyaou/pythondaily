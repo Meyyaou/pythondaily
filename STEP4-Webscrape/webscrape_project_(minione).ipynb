{
  "nbformat": 4,
  "nbformat_minor": 0,
  "metadata": {
    "colab": {
      "provenance": [],
      "authorship_tag": "ABX9TyPomJi1ZxmUZG/ISygnGExq",
      "include_colab_link": true
    },
    "kernelspec": {
      "name": "python3",
      "display_name": "Python 3"
    },
    "language_info": {
      "name": "python"
    }
  },
  "cells": [
    {
      "cell_type": "markdown",
      "metadata": {
        "id": "view-in-github",
        "colab_type": "text"
      },
      "source": [
        "<a href=\"https://colab.research.google.com/github/Meyyaou/pythondaily/blob/main/STEP4-Webscrape/webscrape_project_(minione).ipynb\" target=\"_parent\"><img src=\"https://colab.research.google.com/assets/colab-badge.svg\" alt=\"Open In Colab\"/></a>"
      ]
    },
    {
      "cell_type": "code",
      "execution_count": 57,
      "metadata": {
        "id": "Pkg3OALPAEd0"
      },
      "outputs": [],
      "source": [
        "#import all tools\n",
        "from bs4 import BeautifulSoup\n",
        "import requests\n",
        "import pandas as pd\n",
        "import lxml\n",
        "import urllib.parse"
      ]
    },
    {
      "cell_type": "code",
      "source": [
        "#from search page to individually each page\n",
        "header={'user-agent': 'Mozilla/5.0 (Windows NT 10.0; Win64; x64) AppleWebKit/537.36 (KHTML, like Gecko) Chrome/126.0.0.0 Safari/537.36', 'accept-language': 'fr-FR,fr;q=0.9,en-US;q=0.8,en;q=0.7,ar;q=0.6'}"
      ],
      "metadata": {
        "id": "SPRLqK3YCqEA"
      },
      "execution_count": 58,
      "outputs": []
    },
    {
      "cell_type": "code",
      "source": [
        "#to get readable html post parsing\n",
        "#soup.prettify()"
      ],
      "metadata": {
        "id": "4f5yxF4NHgcG",
        "collapsed": true
      },
      "execution_count": 22,
      "outputs": []
    },
    {
      "cell_type": "code",
      "source": [
        "def get_book_info(url):\n",
        "    page=requests.get(url,headers=header)\n",
        "    soup=BeautifulSoup(page.text, 'lxml')\n",
        "    #get title\n",
        "    title_elem= soup.select_one(\"#productTitle\")\n",
        "    title=title_elem.text if title_elem else None\n",
        "    #print(title)\n",
        "    #get author\n",
        "    author_elem=soup.select_one('span.author')\n",
        "    author=author_elem.text if author_elem else None\n",
        "    #print(author)\n",
        "    #get date de sortie\n",
        "    date_elem=soup.select_one(\"#rpi-attribute-book_details-publication_date > div.a-section.a-spacing-none.a-text-center.rpi-attribute-value > span\")\n",
        "\n",
        "    date=date_elem.text.strip() if date_elem else None\n",
        "    #print(date)\n",
        "    #get price prime deal\n",
        "    full_price_elem= soup.select_one('span.a-price-whole')\n",
        "    frac_price_elem=soup.select_one('span.a-price-fraction')\n",
        "    curr_elem=soup.select_one(\"span.a-price-symbol\")\n",
        "    price=full_price_elem.text+frac_price_elem.text+curr_elem.text if full_price_elem and frac_price_elem and curr_elem else None\n",
        "    #print(price)\n",
        "\n",
        "    #get ordre in top vente\n",
        "    order_bs_elem= soup.select_one(\"div.zg-badge-wrapper > a > i\")\n",
        "    order_bs=order_bs_elem.text if order_bs_elem else None\n",
        "\n",
        "    cat_bs_elem=soup.select_one(\"div.zg-badge-wrapper > a > span > span\")\n",
        "    cat_bs=cat_bs_elem.text if cat_bs_elem else None\n",
        "    #print(order_bs, cat_bs)\n",
        "\n",
        "    #get price livraison ?wherfe is itttt\n",
        "    #get price kindle?\n",
        "    return {\n",
        "        'title': title,\n",
        "        'author': author,\n",
        "        'date': date,\n",
        "        'price': price,\n",
        "        'order_bs': order_bs,\n",
        "        'cat_bs': cat_bs\n",
        "    }"
      ],
      "metadata": {
        "id": "0JP6dEmoMDnQ"
      },
      "execution_count": 59,
      "outputs": []
    },
    {
      "cell_type": "code",
      "source": [
        "\n",
        "counter = 0\n",
        "\n",
        "def search_res_listing(url_search, books_data):\n",
        "    global counter\n",
        "    response = requests.get(url_search, headers=header)\n",
        "    search_soup = BeautifulSoup(response.text, 'lxml')\n",
        "    url_elem_list = search_soup.select('[data-asin] h2 a')\n",
        "\n",
        "    for url_elem in url_elem_list:\n",
        "        if counter >= 20:\n",
        "            return books_data\n",
        "        url = urllib.parse.urljoin(url_search, url_elem.attrs.get(\"href\"))\n",
        "        book_info = get_book_info(url)\n",
        "        books_data.append(book_info)\n",
        "        counter += 1\n",
        "\n",
        "    next_book_el = search_soup.select_one('a:contains(\"Next\")')\n",
        "    if next_book_el and counter < 20:\n",
        "        next_book_url = next_book_el.attrs.get('href')\n",
        "        next_book_url = urllib.parse.urljoin(url_search, next_book_url)\n",
        "        books_data = search_res_listing(next_book_url, books_data)\n",
        "\n",
        "    return books_data"
      ],
      "metadata": {
        "id": "KrmMGA3kyWG7"
      },
      "execution_count": 60,
      "outputs": []
    },
    {
      "cell_type": "code",
      "source": [
        "s_url=\"https://www.amazon.com/s?k=manga&rh=n%3A4367&ref=nb_sb_noss\"\n",
        "books_data = search_res_listing(s_url, [])\n",
        "dataframe = pd.DataFrame(books_data)\n",
        "dataframe.to_csv(\"mangas_amazon_test1.csv\", index=False, sep=',')"
      ],
      "metadata": {
        "id": "h0MnPf3PycrA"
      },
      "execution_count": 61,
      "outputs": []
    },
    {
      "cell_type": "code",
      "source": [
        "#tronquer what we dont need! => was when we searched for infos from results page, not consequent!\n",
        "#for header in soup.find_all('header'):\n",
        "#  header.decompose()\n",
        "#soup.find('div', class_='navLeftFooter').decompose()\n",
        "#soup.find_all('div', class_='navLeftFooter')\n",
        "#soup.find('div', class_='rhf-frame').decompose()\n",
        "#soup.find('div', class_='copilot-secure-display').decompose()"
      ],
      "metadata": {
        "colab": {
          "base_uri": "https://localhost:8080/"
        },
        "id": "d8ehGmUFHsZg",
        "outputId": "08278ebc-3288-4b98-942a-0c3c78238dbe"
      },
      "execution_count": null,
      "outputs": [
        {
          "output_type": "execute_result",
          "data": {
            "text/plain": [
              "[]"
            ]
          },
          "metadata": {},
          "execution_count": 24
        }
      ]
    },
    {
      "cell_type": "code",
      "source": [
        "#get the title\n",
        "#titles=[]\n",
        "#pattern =re.compile(r'\\d+')\n",
        "\n",
        "#for title in soup.find_all('span', class_='a-text-normal'):\n",
        "#  if not pattern.match(title.string):\n",
        "#    titles.append(title.string)\n",
        "#    title\n",
        "#titles"
      ],
      "metadata": {
        "id": "nY_X_rLoJJPP",
        "colab": {
          "base_uri": "https://localhost:8080/"
        },
        "outputId": "4f05879e-9492-4b61-9976-a9da4d5c2a97"
      },
      "execution_count": null,
      "outputs": [
        {
          "output_type": "execute_result",
          "data": {
            "text/plain": [
              "[]"
            ]
          },
          "metadata": {},
          "execution_count": 26
        }
      ]
    },
    {
      "cell_type": "code",
      "source": [
        "#get auteur\n",
        "#auteurs=[]\n",
        "\n",
        "#for auteur in soup.find_all('span', class_='a-size-base'):\n",
        "#  auteurs.append(auteur.string)\n",
        "#auteurs\n"
      ],
      "metadata": {
        "colab": {
          "base_uri": "https://localhost:8080/"
        },
        "id": "KpwaBUJYKk3m",
        "outputId": "5388c554-3be4-497b-e376-738cf5fce0ca"
      },
      "execution_count": null,
      "outputs": [
        {
          "output_type": "execute_result",
          "data": {
            "text/plain": [
              "[]"
            ]
          },
          "metadata": {},
          "execution_count": 27
        }
      ]
    },
    {
      "cell_type": "code",
      "source": [
        "dataframe.info()"
      ],
      "metadata": {
        "colab": {
          "base_uri": "https://localhost:8080/"
        },
        "id": "q9BkppiU3g5-",
        "outputId": "7dda0202-7d40-433d-96de-697e8b983430"
      },
      "execution_count": 62,
      "outputs": [
        {
          "output_type": "stream",
          "name": "stdout",
          "text": [
            "<class 'pandas.core.frame.DataFrame'>\n",
            "RangeIndex: 20 entries, 0 to 19\n",
            "Data columns (total 6 columns):\n",
            " #   Column    Non-Null Count  Dtype \n",
            "---  ------    --------------  ----- \n",
            " 0   title     20 non-null     object\n",
            " 1   author    20 non-null     object\n",
            " 2   date      20 non-null     object\n",
            " 3   price     20 non-null     object\n",
            " 4   order_bs  6 non-null      object\n",
            " 5   cat_bs    6 non-null      object\n",
            "dtypes: object(6)\n",
            "memory usage: 1.1+ KB\n"
          ]
        }
      ]
    },
    {
      "cell_type": "code",
      "source": [
        "dataframe[\"author\"]"
      ],
      "metadata": {
        "colab": {
          "base_uri": "https://localhost:8080/"
        },
        "id": "fvEQEDCd8_fM",
        "outputId": "fec85ee4-c3ea-455e-ee65-e080504cda54"
      },
      "execution_count": 63,
      "outputs": [
        {
          "output_type": "execute_result",
          "data": {
            "text/plain": [
              "0                   \\nYoshitoki Oima \\n(Author) \\n\n",
              "1                 \\nTatsuki Fujimoto \\n(Author) \\n\n",
              "2                 \\nKoyoharu Gotouge \\n(Author) \\n\n",
              "3     \\nKentaro Miura \\n(Author, Illustrator),  \\n\n",
              "4                   \\nTsugumi Ohba \\n(Author),  \\n\n",
              "5                   \\nTsugumi Ohba \\n(Author),  \\n\n",
              "6                      \\nKei Urana \\n(Author),  \\n\n",
              "7               \\nHye Young Im \\n(Translator),  \\n\n",
              "8                  \\nTakeru Hokazono \\n(Author) \\n\n",
              "9                  \\nNaoya Matsumoto \\n(Author) \\n\n",
              "10                    \\nTatsuya Endo \\n(Author) \\n\n",
              "11                \\nTatsuki Fujimoto \\n(Author) \\n\n",
              "12                         \\nJinushi \\n(Author) \\n\n",
              "13                \\nTatsuki Fujimoto \\n(Author) \\n\n",
              "14                 \\nShirow Masamune \\n(Author) \\n\n",
              "15                          \\nFujita \\n(Author) \\n\n",
              "16                   \\nKaiu Shirai \\n(Author),  \\n\n",
              "17                   \\nMokumokuren \\n(Author),  \\n\n",
              "18                 \\nShuichi Shigeno \\n(Author) \\n\n",
              "19               \\nKanehito Yamada \\n(Author),  \\n\n",
              "Name: author, dtype: object"
            ]
          },
          "metadata": {},
          "execution_count": 63
        }
      ]
    },
    {
      "cell_type": "code",
      "source": [
        "df=dataframe"
      ],
      "metadata": {
        "id": "6-Aoe5C8_C6X"
      },
      "execution_count": 66,
      "outputs": []
    },
    {
      "cell_type": "code",
      "source": [
        "#DATA preprocessing: format des champs\n",
        "#date\n",
        "df['date']= pd.to_datetime(df['date'])\n",
        "#\n",
        "auths= df['author']\n",
        "for i,auth in enumerate(auths):\n",
        "  auth_name=\"\"\n",
        "  auth=auth.split(\" \")\n",
        "  auth_name+=auth[0]\n",
        "  auth_name+=' '\n",
        "  auth_name+=auth[1] if 'Author' not in auth[1] else \"\"\n",
        "  auth_name=auth_name.split(\"\\n\")[1]\n",
        "  df.loc[i,\"author\"]=auth_name\n",
        "#print(df['author'])"
      ],
      "metadata": {
        "id": "yAvFgrU1SRaV",
        "colab": {
          "base_uri": "https://localhost:8080/",
          "height": 211
        },
        "outputId": "0c5fd3b5-1a97-443f-e517-094a9dc24b7f"
      },
      "execution_count": 74,
      "outputs": [
        {
          "output_type": "error",
          "ename": "IndexError",
          "evalue": "list index out of range",
          "traceback": [
            "\u001b[0;31m---------------------------------------------------------------------------\u001b[0m",
            "\u001b[0;31mIndexError\u001b[0m                                Traceback (most recent call last)",
            "\u001b[0;32m<ipython-input-74-60d33a7e515f>\u001b[0m in \u001b[0;36m<cell line: 6>\u001b[0;34m()\u001b[0m\n\u001b[1;32m     10\u001b[0m   \u001b[0mauth_name\u001b[0m\u001b[0;34m+=\u001b[0m\u001b[0;34m' '\u001b[0m\u001b[0;34m\u001b[0m\u001b[0;34m\u001b[0m\u001b[0m\n\u001b[1;32m     11\u001b[0m   \u001b[0mauth_name\u001b[0m\u001b[0;34m+=\u001b[0m\u001b[0mauth\u001b[0m\u001b[0;34m[\u001b[0m\u001b[0;36m1\u001b[0m\u001b[0;34m]\u001b[0m \u001b[0;32mif\u001b[0m \u001b[0;34m'Author'\u001b[0m \u001b[0;32mnot\u001b[0m \u001b[0;32min\u001b[0m \u001b[0mauth\u001b[0m\u001b[0;34m[\u001b[0m\u001b[0;36m1\u001b[0m\u001b[0;34m]\u001b[0m \u001b[0;32melse\u001b[0m \u001b[0;34m\"\"\u001b[0m\u001b[0;34m\u001b[0m\u001b[0;34m\u001b[0m\u001b[0m\n\u001b[0;32m---> 12\u001b[0;31m   \u001b[0mauth_name\u001b[0m\u001b[0;34m=\u001b[0m\u001b[0mauth_name\u001b[0m\u001b[0;34m.\u001b[0m\u001b[0msplit\u001b[0m\u001b[0;34m(\u001b[0m\u001b[0;34m\"\\n\"\u001b[0m\u001b[0;34m)\u001b[0m\u001b[0;34m[\u001b[0m\u001b[0;36m1\u001b[0m\u001b[0;34m]\u001b[0m\u001b[0;34m\u001b[0m\u001b[0;34m\u001b[0m\u001b[0m\n\u001b[0m\u001b[1;32m     13\u001b[0m   \u001b[0mdf\u001b[0m\u001b[0;34m.\u001b[0m\u001b[0mloc\u001b[0m\u001b[0;34m[\u001b[0m\u001b[0mi\u001b[0m\u001b[0;34m,\u001b[0m\u001b[0;34m\"author\"\u001b[0m\u001b[0;34m]\u001b[0m\u001b[0;34m=\u001b[0m\u001b[0mauth_name\u001b[0m\u001b[0;34m\u001b[0m\u001b[0;34m\u001b[0m\u001b[0m\n\u001b[1;32m     14\u001b[0m \u001b[0;31m#print(df['author'])\u001b[0m\u001b[0;34m\u001b[0m\u001b[0;34m\u001b[0m\u001b[0m\n",
            "\u001b[0;31mIndexError\u001b[0m: list index out of range"
          ]
        }
      ]
    },
    {
      "cell_type": "code",
      "source": [
        "import numpy as np"
      ],
      "metadata": {
        "id": "1hB2f0j0GD4V"
      },
      "execution_count": 84,
      "outputs": []
    },
    {
      "cell_type": "code",
      "source": [
        "df.head()\n",
        "#cat_bs drop the in keep list of cats and if none=> No bs\n",
        "df['cat_bs']=df['cat_bs'].fillna(\"No bs\")\n",
        "cats=df['cat_bs']\n",
        "cat_bs = []\n",
        "for cat in cats:\n",
        "  if cat != 'No bs':\n",
        "    words=str(cat).split(' ')\n",
        "    filtr_words=[]\n",
        "    i=0\n",
        "    if words[0]=='in':\n",
        "      i=1\n",
        "    while i <len(words):\n",
        "      if words[i]==\"&\":\n",
        "        if i>0 and filtr_words:\n",
        "          filtr_words[-1]=filtr_words[-1]+' '+words[i+1]\n",
        "        i+=2\n",
        "      else:\n",
        "        filtr_words.append(words[i])\n",
        "        i+=1\n",
        "    cat_bs.append(filtr_words)\n",
        "  else:\n",
        "    cat_bs.append([\"No bs\"])\n",
        "#print(cat_bs)\n",
        "df['cat_bs']=cat_bs"
      ],
      "metadata": {
        "id": "8cTs5MuqDdAv"
      },
      "execution_count": 105,
      "outputs": []
    },
    {
      "cell_type": "code",
      "source": [
        "df.head()"
      ],
      "metadata": {
        "colab": {
          "base_uri": "https://localhost:8080/",
          "height": 379
        },
        "id": "ilLGg8XIJemy",
        "outputId": "5f3fdc12-a60c-4783-cfa4-80279ed1d879"
      },
      "execution_count": 106,
      "outputs": [
        {
          "output_type": "execute_result",
          "data": {
            "text/plain": [
              "                                               title            author  \\\n",
              "0            A Silent Voice Complete Series Box Set     Yoshitoki Oima   \n",
              "1       Chainsaw Man Box Set: Includes volumes 1-11   Tatsuki Fujimoto   \n",
              "2    Demon Slayer Complete Box Set: Includes volu...  Koyoharu Gotouge   \n",
              "3                           Berserk Deluxe Volume 1      Kentaro Miura   \n",
              "4    Death Note Complete Box Set: Volumes 1-13 wi...      Tsugumi Ohba   \n",
              "\n",
              "        date    price        order_bs                                 cat_bs  \n",
              "0 2017-12-19   32.26$  #1 Best Seller                       [Romance, Manga]  \n",
              "1 2023-09-26   55.99$  #1 Best Seller             [Teen Young, Adult, Manga]  \n",
              "2 2021-11-09  115.52$  #1 Best Seller              [Science, Fiction, Manga]  \n",
              "3 2019-03-26   28.48$  #1 Best Seller  [Dark, Horse, Comics Graphic, Novels]  \n",
              "4 2008-10-07   59.43$            None                                [No bs]  "
            ],
            "text/html": [
              "\n",
              "  <div id=\"df-a79a40f7-59a2-4de6-9f40-d096c16eae20\" class=\"colab-df-container\">\n",
              "    <div>\n",
              "<style scoped>\n",
              "    .dataframe tbody tr th:only-of-type {\n",
              "        vertical-align: middle;\n",
              "    }\n",
              "\n",
              "    .dataframe tbody tr th {\n",
              "        vertical-align: top;\n",
              "    }\n",
              "\n",
              "    .dataframe thead th {\n",
              "        text-align: right;\n",
              "    }\n",
              "</style>\n",
              "<table border=\"1\" class=\"dataframe\">\n",
              "  <thead>\n",
              "    <tr style=\"text-align: right;\">\n",
              "      <th></th>\n",
              "      <th>title</th>\n",
              "      <th>author</th>\n",
              "      <th>date</th>\n",
              "      <th>price</th>\n",
              "      <th>order_bs</th>\n",
              "      <th>cat_bs</th>\n",
              "    </tr>\n",
              "  </thead>\n",
              "  <tbody>\n",
              "    <tr>\n",
              "      <th>0</th>\n",
              "      <td>A Silent Voice Complete Series Box Set</td>\n",
              "      <td>Yoshitoki Oima</td>\n",
              "      <td>2017-12-19</td>\n",
              "      <td>32.26$</td>\n",
              "      <td>#1 Best Seller</td>\n",
              "      <td>[Romance, Manga]</td>\n",
              "    </tr>\n",
              "    <tr>\n",
              "      <th>1</th>\n",
              "      <td>Chainsaw Man Box Set: Includes volumes 1-11</td>\n",
              "      <td>Tatsuki Fujimoto</td>\n",
              "      <td>2023-09-26</td>\n",
              "      <td>55.99$</td>\n",
              "      <td>#1 Best Seller</td>\n",
              "      <td>[Teen Young, Adult, Manga]</td>\n",
              "    </tr>\n",
              "    <tr>\n",
              "      <th>2</th>\n",
              "      <td>Demon Slayer Complete Box Set: Includes volu...</td>\n",
              "      <td>Koyoharu Gotouge</td>\n",
              "      <td>2021-11-09</td>\n",
              "      <td>115.52$</td>\n",
              "      <td>#1 Best Seller</td>\n",
              "      <td>[Science, Fiction, Manga]</td>\n",
              "    </tr>\n",
              "    <tr>\n",
              "      <th>3</th>\n",
              "      <td>Berserk Deluxe Volume 1</td>\n",
              "      <td>Kentaro Miura</td>\n",
              "      <td>2019-03-26</td>\n",
              "      <td>28.48$</td>\n",
              "      <td>#1 Best Seller</td>\n",
              "      <td>[Dark, Horse, Comics Graphic, Novels]</td>\n",
              "    </tr>\n",
              "    <tr>\n",
              "      <th>4</th>\n",
              "      <td>Death Note Complete Box Set: Volumes 1-13 wi...</td>\n",
              "      <td>Tsugumi Ohba</td>\n",
              "      <td>2008-10-07</td>\n",
              "      <td>59.43$</td>\n",
              "      <td>None</td>\n",
              "      <td>[No bs]</td>\n",
              "    </tr>\n",
              "  </tbody>\n",
              "</table>\n",
              "</div>\n",
              "    <div class=\"colab-df-buttons\">\n",
              "\n",
              "  <div class=\"colab-df-container\">\n",
              "    <button class=\"colab-df-convert\" onclick=\"convertToInteractive('df-a79a40f7-59a2-4de6-9f40-d096c16eae20')\"\n",
              "            title=\"Convert this dataframe to an interactive table.\"\n",
              "            style=\"display:none;\">\n",
              "\n",
              "  <svg xmlns=\"http://www.w3.org/2000/svg\" height=\"24px\" viewBox=\"0 -960 960 960\">\n",
              "    <path d=\"M120-120v-720h720v720H120Zm60-500h600v-160H180v160Zm220 220h160v-160H400v160Zm0 220h160v-160H400v160ZM180-400h160v-160H180v160Zm440 0h160v-160H620v160ZM180-180h160v-160H180v160Zm440 0h160v-160H620v160Z\"/>\n",
              "  </svg>\n",
              "    </button>\n",
              "\n",
              "  <style>\n",
              "    .colab-df-container {\n",
              "      display:flex;\n",
              "      gap: 12px;\n",
              "    }\n",
              "\n",
              "    .colab-df-convert {\n",
              "      background-color: #E8F0FE;\n",
              "      border: none;\n",
              "      border-radius: 50%;\n",
              "      cursor: pointer;\n",
              "      display: none;\n",
              "      fill: #1967D2;\n",
              "      height: 32px;\n",
              "      padding: 0 0 0 0;\n",
              "      width: 32px;\n",
              "    }\n",
              "\n",
              "    .colab-df-convert:hover {\n",
              "      background-color: #E2EBFA;\n",
              "      box-shadow: 0px 1px 2px rgba(60, 64, 67, 0.3), 0px 1px 3px 1px rgba(60, 64, 67, 0.15);\n",
              "      fill: #174EA6;\n",
              "    }\n",
              "\n",
              "    .colab-df-buttons div {\n",
              "      margin-bottom: 4px;\n",
              "    }\n",
              "\n",
              "    [theme=dark] .colab-df-convert {\n",
              "      background-color: #3B4455;\n",
              "      fill: #D2E3FC;\n",
              "    }\n",
              "\n",
              "    [theme=dark] .colab-df-convert:hover {\n",
              "      background-color: #434B5C;\n",
              "      box-shadow: 0px 1px 3px 1px rgba(0, 0, 0, 0.15);\n",
              "      filter: drop-shadow(0px 1px 2px rgba(0, 0, 0, 0.3));\n",
              "      fill: #FFFFFF;\n",
              "    }\n",
              "  </style>\n",
              "\n",
              "    <script>\n",
              "      const buttonEl =\n",
              "        document.querySelector('#df-a79a40f7-59a2-4de6-9f40-d096c16eae20 button.colab-df-convert');\n",
              "      buttonEl.style.display =\n",
              "        google.colab.kernel.accessAllowed ? 'block' : 'none';\n",
              "\n",
              "      async function convertToInteractive(key) {\n",
              "        const element = document.querySelector('#df-a79a40f7-59a2-4de6-9f40-d096c16eae20');\n",
              "        const dataTable =\n",
              "          await google.colab.kernel.invokeFunction('convertToInteractive',\n",
              "                                                    [key], {});\n",
              "        if (!dataTable) return;\n",
              "\n",
              "        const docLinkHtml = 'Like what you see? Visit the ' +\n",
              "          '<a target=\"_blank\" href=https://colab.research.google.com/notebooks/data_table.ipynb>data table notebook</a>'\n",
              "          + ' to learn more about interactive tables.';\n",
              "        element.innerHTML = '';\n",
              "        dataTable['output_type'] = 'display_data';\n",
              "        await google.colab.output.renderOutput(dataTable, element);\n",
              "        const docLink = document.createElement('div');\n",
              "        docLink.innerHTML = docLinkHtml;\n",
              "        element.appendChild(docLink);\n",
              "      }\n",
              "    </script>\n",
              "  </div>\n",
              "\n",
              "\n",
              "<div id=\"df-03ded4a0-fd91-43d6-bb4b-9900245fc975\">\n",
              "  <button class=\"colab-df-quickchart\" onclick=\"quickchart('df-03ded4a0-fd91-43d6-bb4b-9900245fc975')\"\n",
              "            title=\"Suggest charts\"\n",
              "            style=\"display:none;\">\n",
              "\n",
              "<svg xmlns=\"http://www.w3.org/2000/svg\" height=\"24px\"viewBox=\"0 0 24 24\"\n",
              "     width=\"24px\">\n",
              "    <g>\n",
              "        <path d=\"M19 3H5c-1.1 0-2 .9-2 2v14c0 1.1.9 2 2 2h14c1.1 0 2-.9 2-2V5c0-1.1-.9-2-2-2zM9 17H7v-7h2v7zm4 0h-2V7h2v10zm4 0h-2v-4h2v4z\"/>\n",
              "    </g>\n",
              "</svg>\n",
              "  </button>\n",
              "\n",
              "<style>\n",
              "  .colab-df-quickchart {\n",
              "      --bg-color: #E8F0FE;\n",
              "      --fill-color: #1967D2;\n",
              "      --hover-bg-color: #E2EBFA;\n",
              "      --hover-fill-color: #174EA6;\n",
              "      --disabled-fill-color: #AAA;\n",
              "      --disabled-bg-color: #DDD;\n",
              "  }\n",
              "\n",
              "  [theme=dark] .colab-df-quickchart {\n",
              "      --bg-color: #3B4455;\n",
              "      --fill-color: #D2E3FC;\n",
              "      --hover-bg-color: #434B5C;\n",
              "      --hover-fill-color: #FFFFFF;\n",
              "      --disabled-bg-color: #3B4455;\n",
              "      --disabled-fill-color: #666;\n",
              "  }\n",
              "\n",
              "  .colab-df-quickchart {\n",
              "    background-color: var(--bg-color);\n",
              "    border: none;\n",
              "    border-radius: 50%;\n",
              "    cursor: pointer;\n",
              "    display: none;\n",
              "    fill: var(--fill-color);\n",
              "    height: 32px;\n",
              "    padding: 0;\n",
              "    width: 32px;\n",
              "  }\n",
              "\n",
              "  .colab-df-quickchart:hover {\n",
              "    background-color: var(--hover-bg-color);\n",
              "    box-shadow: 0 1px 2px rgba(60, 64, 67, 0.3), 0 1px 3px 1px rgba(60, 64, 67, 0.15);\n",
              "    fill: var(--button-hover-fill-color);\n",
              "  }\n",
              "\n",
              "  .colab-df-quickchart-complete:disabled,\n",
              "  .colab-df-quickchart-complete:disabled:hover {\n",
              "    background-color: var(--disabled-bg-color);\n",
              "    fill: var(--disabled-fill-color);\n",
              "    box-shadow: none;\n",
              "  }\n",
              "\n",
              "  .colab-df-spinner {\n",
              "    border: 2px solid var(--fill-color);\n",
              "    border-color: transparent;\n",
              "    border-bottom-color: var(--fill-color);\n",
              "    animation:\n",
              "      spin 1s steps(1) infinite;\n",
              "  }\n",
              "\n",
              "  @keyframes spin {\n",
              "    0% {\n",
              "      border-color: transparent;\n",
              "      border-bottom-color: var(--fill-color);\n",
              "      border-left-color: var(--fill-color);\n",
              "    }\n",
              "    20% {\n",
              "      border-color: transparent;\n",
              "      border-left-color: var(--fill-color);\n",
              "      border-top-color: var(--fill-color);\n",
              "    }\n",
              "    30% {\n",
              "      border-color: transparent;\n",
              "      border-left-color: var(--fill-color);\n",
              "      border-top-color: var(--fill-color);\n",
              "      border-right-color: var(--fill-color);\n",
              "    }\n",
              "    40% {\n",
              "      border-color: transparent;\n",
              "      border-right-color: var(--fill-color);\n",
              "      border-top-color: var(--fill-color);\n",
              "    }\n",
              "    60% {\n",
              "      border-color: transparent;\n",
              "      border-right-color: var(--fill-color);\n",
              "    }\n",
              "    80% {\n",
              "      border-color: transparent;\n",
              "      border-right-color: var(--fill-color);\n",
              "      border-bottom-color: var(--fill-color);\n",
              "    }\n",
              "    90% {\n",
              "      border-color: transparent;\n",
              "      border-bottom-color: var(--fill-color);\n",
              "    }\n",
              "  }\n",
              "</style>\n",
              "\n",
              "  <script>\n",
              "    async function quickchart(key) {\n",
              "      const quickchartButtonEl =\n",
              "        document.querySelector('#' + key + ' button');\n",
              "      quickchartButtonEl.disabled = true;  // To prevent multiple clicks.\n",
              "      quickchartButtonEl.classList.add('colab-df-spinner');\n",
              "      try {\n",
              "        const charts = await google.colab.kernel.invokeFunction(\n",
              "            'suggestCharts', [key], {});\n",
              "      } catch (error) {\n",
              "        console.error('Error during call to suggestCharts:', error);\n",
              "      }\n",
              "      quickchartButtonEl.classList.remove('colab-df-spinner');\n",
              "      quickchartButtonEl.classList.add('colab-df-quickchart-complete');\n",
              "    }\n",
              "    (() => {\n",
              "      let quickchartButtonEl =\n",
              "        document.querySelector('#df-03ded4a0-fd91-43d6-bb4b-9900245fc975 button');\n",
              "      quickchartButtonEl.style.display =\n",
              "        google.colab.kernel.accessAllowed ? 'block' : 'none';\n",
              "    })();\n",
              "  </script>\n",
              "</div>\n",
              "\n",
              "    </div>\n",
              "  </div>\n"
            ],
            "application/vnd.google.colaboratory.intrinsic+json": {
              "type": "dataframe",
              "variable_name": "df",
              "summary": "{\n  \"name\": \"df\",\n  \"rows\": 20,\n  \"fields\": [\n    {\n      \"column\": \"title\",\n      \"properties\": {\n        \"dtype\": \"string\",\n        \"num_unique_values\": 20,\n        \"samples\": [\n          \"  A Silent Voice Complete Series Box Set \",\n          \"  The Summer Hikaru Died, Vol. 1 (Volume 1) (The Summer Hikaru Died, 1) \",\n          \"  Wotakoi: Love Is Hard for Otaku Complete Manga Box Set (Wotakoi Box Set) \"\n        ],\n        \"semantic_type\": \"\",\n        \"description\": \"\"\n      }\n    },\n    {\n      \"column\": \"author\",\n      \"properties\": {\n        \"dtype\": \"string\",\n        \"num_unique_values\": 17,\n        \"samples\": [\n          \"Yoshitoki Oima\",\n          \"Tatsuki Fujimoto\",\n          \"Kei Urana\"\n        ],\n        \"semantic_type\": \"\",\n        \"description\": \"\"\n      }\n    },\n    {\n      \"column\": \"date\",\n      \"properties\": {\n        \"dtype\": \"date\",\n        \"min\": \"2008-10-07 00:00:00\",\n        \"max\": \"2024-11-05 00:00:00\",\n        \"num_unique_values\": 19,\n        \"samples\": [\n          \"2017-12-19 00:00:00\",\n          \"2017-09-05 00:00:00\",\n          \"2020-10-06 00:00:00\"\n        ],\n        \"semantic_type\": \"\",\n        \"description\": \"\"\n      }\n    },\n    {\n      \"column\": \"price\",\n      \"properties\": {\n        \"dtype\": \"string\",\n        \"num_unique_values\": 18,\n        \"samples\": [\n          \"32.26$\",\n          \"55.99$\",\n          \"10.79$\"\n        ],\n        \"semantic_type\": \"\",\n        \"description\": \"\"\n      }\n    },\n    {\n      \"column\": \"order_bs\",\n      \"properties\": {\n        \"dtype\": \"category\",\n        \"num_unique_values\": 1,\n        \"samples\": [\n          \"#1 Best Seller\"\n        ],\n        \"semantic_type\": \"\",\n        \"description\": \"\"\n      }\n    },\n    {\n      \"column\": \"cat_bs\",\n      \"properties\": {\n        \"dtype\": \"object\",\n        \"semantic_type\": \"\",\n        \"description\": \"\"\n      }\n    }\n  ]\n}"
            }
          },
          "metadata": {},
          "execution_count": 106
        }
      ]
    },
    {
      "cell_type": "code",
      "source": [
        "#order_bs if none=> No bs\n",
        "df['order_bs']=df['order_bs'].fillna(\"No bs\")"
      ],
      "metadata": {
        "id": "h8M3cX3IJecr"
      },
      "execution_count": null,
      "outputs": []
    },
    {
      "cell_type": "code",
      "source": [
        "#DATA ANALYSIS some basic plots\n",
        "#annee de publication\n",
        "df['date'].hist()\n",
        "\n",
        "#price\n",
        "import matplotlib.pyplot as plt\n",
        "plt.figure()\n",
        "plt.plot(df['price', c='green')\n",
        "plt.show()"
      ],
      "metadata": {
        "id": "GAk3ZjSazjc7"
      },
      "execution_count": null,
      "outputs": []
    },
    {
      "cell_type": "code",
      "source": [
        "#variation analysis"
      ],
      "metadata": {
        "id": "_hAiYqFM2XaY"
      },
      "execution_count": null,
      "outputs": []
    },
    {
      "cell_type": "code",
      "source": [
        "#email alert stuff\n",
        "import smtplib\n",
        "from email.mime.text import MIMEText\n",
        "from email.mime.multipart import MIMEMultipart"
      ],
      "metadata": {
        "id": "9FG7pJ_stT2d"
      },
      "execution_count": 13,
      "outputs": []
    },
    {
      "cell_type": "code",
      "source": [
        "def email_alert(subject,body,to):\n",
        "  msg=MIMEMultipart()\n",
        "  msg.attach(MIMEText(body, 'plain'))\n",
        "  msg['subject']=subject\n",
        "  msg['to']=to\n",
        "  user='x'\n",
        "  msg['from']=user\n",
        "\n",
        "  pwd='x'\n",
        "\n",
        "  server=smtplib.SMTP(\"smtp.gmail.com\",587)\n",
        "  server.starttls()\n",
        "  server.login(user,pwd)\n",
        "  server.send_message(msg)\n",
        "  server.quit()"
      ],
      "metadata": {
        "id": "Og9aQp3hoGeu"
      },
      "execution_count": 14,
      "outputs": []
    },
    {
      "cell_type": "code",
      "source": [
        "#email_alert('hey', \"hello world it's a test man\", 'rec@gmail.com')"
      ],
      "metadata": {
        "id": "QbK_h9sbourR"
      },
      "execution_count": 15,
      "outputs": []
    }
  ]
}