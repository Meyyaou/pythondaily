{
  "nbformat": 4,
  "nbformat_minor": 0,
  "metadata": {
    "colab": {
      "provenance": [],
      "authorship_tag": "ABX9TyNGIDS3nfa82N5d5PQkMkX3",
      "include_colab_link": true
    },
    "kernelspec": {
      "name": "python3",
      "display_name": "Python 3"
    },
    "language_info": {
      "name": "python"
    }
  },
  "cells": [
    {
      "cell_type": "markdown",
      "metadata": {
        "id": "view-in-github",
        "colab_type": "text"
      },
      "source": [
        "<a href=\"https://colab.research.google.com/github/Meyyaou/pythondaily/blob/main/minitest(quotes_scraping).ipynb\" target=\"_parent\"><img src=\"https://colab.research.google.com/assets/colab-badge.svg\" alt=\"Open In Colab\"/></a>"
      ]
    },
    {
      "cell_type": "code",
      "execution_count": 1,
      "metadata": {
        "id": "xnhCGXKxeurZ"
      },
      "outputs": [],
      "source": [
        "from bs4 import BeautifulSoup\n",
        "import requests\n",
        "import csv"
      ]
    },
    {
      "cell_type": "code",
      "source": [
        "website = 'https://quotes.toscrape.com/'\n",
        "page=requests.get(website)\n",
        "#page.content"
      ],
      "metadata": {
        "id": "i5y_UBWwe4Y4"
      },
      "execution_count": 4,
      "outputs": []
    },
    {
      "cell_type": "code",
      "source": [
        "soup=BeautifulSoup(page.text, 'html.parser')"
      ],
      "metadata": {
        "id": "lC3WB4lKfSAq"
      },
      "execution_count": 6,
      "outputs": []
    },
    {
      "cell_type": "code",
      "source": [
        "#scraping quotes and authors\n",
        "quotes=[]\n",
        "authors=[]\n",
        "reps=['”','“']\n",
        "for quote, author in zip(soup.find_all('span', class_='text'),soup.find_all('small', class_='author')):\n",
        "  quote=quote.string\n",
        "  quote=str(quote)\n",
        "  for rep in reps:\n",
        "    quote=quote.replace(rep, '')\n",
        "  quotes.append(quote)\n",
        "  authors.append(author.string)\n"
      ],
      "metadata": {
        "id": "1GnUgSKsfDrf"
      },
      "execution_count": 63,
      "outputs": []
    },
    {
      "cell_type": "code",
      "source": [
        "#convert list to dict\n",
        "# this is standard dict quotesAndauthor= dict(zip(quotes, authors)) but we need a list to use w.writerows\n",
        "quotesAndAuthors = [{'Quotes': quote, 'Authors': author} for quote, author in zip(quotes, authors)]\n"
      ],
      "metadata": {
        "id": "_WujxYLwidpE"
      },
      "execution_count": 64,
      "outputs": []
    },
    {
      "cell_type": "code",
      "source": [
        "#now write them on a csv file\n",
        "with open ('quotes_and_authors.csv', 'w') as file:\n",
        "  writer=csv.DictWriter(file, fieldnames=['Quotes', 'Authors']);\n",
        "  writer.writeheader()\n",
        "  writer.writerows(quotesAndAuthors)"
      ],
      "metadata": {
        "id": "vHRCqEQ6fju-"
      },
      "execution_count": 62,
      "outputs": []
    }
  ]
}